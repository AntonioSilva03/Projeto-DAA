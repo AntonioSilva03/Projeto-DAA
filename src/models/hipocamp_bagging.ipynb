{
 "cells": [
  {
   "cell_type": "markdown",
   "metadata": {},
   "source": [
    "# Bagging (Bootstrap aggregating)"
   ]
  },
  {
   "cell_type": "code",
   "execution_count": 1,
   "metadata": {},
   "outputs": [],
   "source": [
    "import pandas as pd\n",
    "import numpy as np\n",
    "from sklearn.tree import DecisionTreeClassifier\n",
    "from sklearn.metrics import classification_report\n",
    "from sklearn.ensemble import GradientBoostingClassifier, VotingClassifier, BaggingClassifier\n",
    "from sklearn.model_selection import train_test_split, cross_val_score, GridSearchCV, StratifiedShuffleSplit\n",
    "from sklearn import tree"
   ]
  },
  {
   "cell_type": "markdown",
   "metadata": {},
   "source": [
    "Load datasets manuseados"
   ]
  },
  {
   "cell_type": "code",
   "execution_count": 2,
   "metadata": {},
   "outputs": [],
   "source": [
    "df_train = pd.read_csv('../../datasets_manuseados/train_radiomics_hipocamp_treated.csv')\n",
    "df_test = pd.read_csv('../../datasets_manuseados/test_radiomics_hipocamp_treated.csv')"
   ]
  },
  {
   "cell_type": "markdown",
   "metadata": {},
   "source": [
    "Float64/Int64 to Float32/Int32"
   ]
  },
  {
   "cell_type": "code",
   "execution_count": 3,
   "metadata": {},
   "outputs": [
    {
     "name": "stdout",
     "output_type": "stream",
     "text": [
      "<class 'pandas.core.frame.DataFrame'>\n",
      "RangeIndex: 305 entries, 0 to 304\n",
      "Columns: 1898 entries, RowId to Transition\n",
      "dtypes: float32(1896), int32(1), object(1)\n",
      "memory usage: 2.2+ MB\n",
      "--------------------\n",
      "<class 'pandas.core.frame.DataFrame'>\n",
      "RangeIndex: 100 entries, 0 to 99\n",
      "Columns: 1897 entries, RowId to Age\n",
      "dtypes: float32(1896), int32(1)\n",
      "memory usage: 741.1 KB\n"
     ]
    }
   ],
   "source": [
    "float_features = df_train.select_dtypes(include='float')\n",
    "int_features = df_train.select_dtypes(include='int')\n",
    "df_train[float_features.columns] = df_train[float_features.columns].astype(np.float32)\n",
    "df_train[int_features.columns] = df_train[int_features.columns].astype(np.int32)\n",
    "df_train.info()\n",
    "print(\"--------------------\")\n",
    "float_features = df_test.select_dtypes(include='float')\n",
    "int_features = df_test.select_dtypes(include='int')\n",
    "df_test[float_features.columns] = df_test[float_features.columns].astype(np.float32)\n",
    "df_test[int_features.columns] = df_test[int_features.columns].astype(np.int32)\n",
    "df_test.info()"
   ]
  },
  {
   "cell_type": "markdown",
   "metadata": {},
   "source": [
    "Model training and predict"
   ]
  },
  {
   "cell_type": "code",
   "execution_count": null,
   "metadata": {},
   "outputs": [],
   "source": [
    "X = df_train.drop('Transition', axis=1)\n",
    "y = df_train['Transition']\n",
    "\n",
    "X = X.drop('RowId', axis=1)\n",
    "X_test_sss = df_test.drop('RowId', axis=1)\n",
    "\n",
    "X_train_sss, X_val_sss, y_train_sss, y_val_sss = train_test_split(X, y, test_size=0.2, random_state=2024)\n",
    "\n",
    "dt = DecisionTreeClassifier(max_depth=5, max_leaf_nodes= 15, min_samples_leaf=5, min_samples_split=15, random_state=2024)\n",
    "dt.fit(X_train_sss, y_train_sss)\n",
    "\n",
    "sss = StratifiedShuffleSplit(n_splits=10, test_size=20, random_state=2024)\n",
    "\n",
    "bg_model = BaggingClassifier(estimator=dt, bootstrap= True)\n",
    "\n",
    "parameters = {'n_estimators': [160]}\n",
    "\n",
    "grid_bg = GridSearchCV(estimator=bg_model, param_grid=parameters, cv=sss)\n",
    "grid_bg.fit(X_train_sss, y_train_sss)\n",
    "bst_bg = grid_bg.best_estimator_\n",
    "\n",
    "bst_bg.fit(X_train_sss, y_train_sss)\n",
    "\n",
    "bg_predictions = bst_bg.predict(X_test_sss)\n",
    "\n",
    "op_bg = pd.DataFrame(df_test['RowId'])\n",
    "op_bg['Transition'] = bg_predictions\n",
    "op_bg.to_csv(\"../../predictions/bg.csv\", index=False)"
   ]
  }
 ],
 "metadata": {
  "kernelspec": {
   "display_name": "DAA",
   "language": "python",
   "name": "python3"
  },
  "language_info": {
   "codemirror_mode": {
    "name": "ipython",
    "version": 3
   },
   "file_extension": ".py",
   "mimetype": "text/x-python",
   "name": "python",
   "nbconvert_exporter": "python",
   "pygments_lexer": "ipython3",
   "version": "3.12.2"
  }
 },
 "nbformat": 4,
 "nbformat_minor": 2
}

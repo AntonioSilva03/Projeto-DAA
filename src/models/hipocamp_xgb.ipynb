{
 "cells": [
  {
   "cell_type": "markdown",
   "metadata": {},
   "source": [
    "# XGBoost com RFECV"
   ]
  },
  {
   "cell_type": "code",
   "execution_count": 1,
   "metadata": {},
   "outputs": [],
   "source": [
    "import pandas as pd\n",
    "import numpy as np\n",
    "%matplotlib inline\n",
    "import os\n",
    "import random\n",
    "from sklearn.model_selection import train_test_split\n",
    "from sklearn.ensemble import RandomForestClassifier, GradientBoostingClassifier\n",
    "from sklearn.feature_selection import RFECV\n",
    "from sklearn.decomposition import PCA\n",
    "from sklearn.model_selection import StratifiedKFold\n",
    "import matplotlib.pyplot as plt\n",
    "from sklearn.metrics import classification_report, ConfusionMatrixDisplay\n",
    "from sklearn.model_selection import GridSearchCV\n",
    "from sklearn.ensemble import RandomForestClassifier\n",
    "from xgboost.sklearn import XGBClassifier\n",
    "from sklearn.preprocessing import LabelEncoder"
   ]
  },
  {
   "cell_type": "markdown",
   "metadata": {},
   "source": [
    "Tratamento da Random Seed"
   ]
  },
  {
   "cell_type": "code",
   "execution_count": 2,
   "metadata": {},
   "outputs": [],
   "source": [
    "def set_seed(seed: int):\n",
    "    random.seed(seed) # Python\n",
    "    np.random.seed(seed)  # Numpy, é o gerador utilizado pelo sklearn\n",
    "    os.environ[\"PYTHONHASHSEED\"] = str(seed)  # sistema operativo\n",
    "\n",
    "# Fixar a seed\n",
    "set_seed(2023)"
   ]
  },
  {
   "cell_type": "markdown",
   "metadata": {},
   "source": [
    "Load CSVs"
   ]
  },
  {
   "cell_type": "code",
   "execution_count": 3,
   "metadata": {},
   "outputs": [],
   "source": [
    "df_train = pd.read_csv('../../datasets_manuseados/train_radiomics_hipocamp_treated.csv')\n",
    "df_test = pd.read_csv('../../datasets_manuseados/test_radiomics_hipocamp_treated.csv')"
   ]
  },
  {
   "cell_type": "markdown",
   "metadata": {},
   "source": [
    "Float64/Int64 to Float32/Int32"
   ]
  },
  {
   "cell_type": "code",
   "execution_count": null,
   "metadata": {},
   "outputs": [],
   "source": [
    "float_features = df_train.select_dtypes(include='float')\n",
    "int_features = df_train.select_dtypes(include='int')\n",
    "df_train[float_features.columns] = df_train[float_features.columns].astype(np.float32)\n",
    "df_train[int_features.columns] = df_train[int_features.columns].astype(np.int32)\n",
    "df_train.info()\n",
    "print(\"--------------------\")\n",
    "float_features = df_test.select_dtypes(include='float')\n",
    "int_features = df_test.select_dtypes(include='int')\n",
    "df_test[float_features.columns] = df_test[float_features.columns].astype(np.float32)\n",
    "df_test[int_features.columns] = df_test[int_features.columns].astype(np.int32)\n",
    "df_test.info()"
   ]
  },
  {
   "cell_type": "markdown",
   "metadata": {},
   "source": [
    "Train Test Split"
   ]
  },
  {
   "cell_type": "code",
   "execution_count": 5,
   "metadata": {},
   "outputs": [],
   "source": [
    "X = df_train.drop(columns=['Transition'])\n",
    "y = df_train['Transition']\n",
    "\n",
    "X_test = df_test\n",
    "\n",
    "X_train, X_val, y_train, y_val = train_test_split(X, y, test_size=0.2, random_state=2023, stratify = y)"
   ]
  },
  {
   "cell_type": "markdown",
   "metadata": {},
   "source": [
    "### Feature Selection using RFECV and PCA"
   ]
  },
  {
   "cell_type": "code",
   "execution_count": null,
   "metadata": {},
   "outputs": [],
   "source": [
    "model = RandomForestClassifier(random_state=2023)\n",
    "\n",
    "### 1. RFECV - Recursive Feature Elimination with Cross-Validation\n",
    "rfecv = RFECV(estimator=model, step=1, cv=StratifiedKFold(3), scoring='f1_macro', n_jobs=-1, verbose=2)\n",
    "rfecv.fit(X, y)\n",
    "\n",
    "rfecv_features = X.columns[rfecv.support_]\n",
    "print(f\"Number of selected features by RFECV: {len(rfecv_features)}\")\n",
    "print(f\"Eliminated features by RFECV: {len(X.columns) - len(rfecv_features)}\")\n",
    "\n",
    "plt.figure()\n",
    "plt.xlabel(\"Number of selected features\")\n",
    "plt.ylabel(\"Cross validation score (nb of correct classifications)\")\n",
    "plt.title(\"RFECV - Score vs. Number of Features\")\n",
    "plt.plot(range(1, len(rfecv.cv_results_['mean_test_score']) + 1), rfecv.cv_results_['mean_test_score'])\n",
    "plt.show()\n",
    "\n",
    "X_rfecv = X[rfecv_features]\n",
    "X_test_rfecv = X_test[rfecv_features]\n",
    "X_train_rfecv = X_train[rfecv_features]\n",
    "X_val_rfecv = X_val[rfecv_features]\n",
    "\n",
    "### 2. PCA - Principal Component Analysis\n",
    "pca = PCA(n_components=0.95)\n",
    "X_final = pca.fit_transform(X_rfecv)\n",
    "X_test_final = pca.transform(X_test_rfecv)\n",
    "X_train_final = pca.transform(X_train_rfecv)\n",
    "X_val_final = pca.transform(X_val_rfecv)\n",
    "print(f\"Original number of features (after RFECV): {X_rfecv.shape[1]}\")\n",
    "print(f\"Number of components selected by PCA: {pca.n_components_}\")\n",
    "\n",
    "plt.figure()\n",
    "plt.bar(range(1, pca.n_components_ + 1), pca.explained_variance_ratio_, color='blue', alpha=0.7)\n",
    "plt.xlabel(\"Principal Component\")\n",
    "plt.ylabel(\"Explained Variance Ratio\")\n",
    "plt.title(\"PCA - Principal Components Explained Variance Ratio\")\n",
    "plt.show()\n",
    "\n",
    "# Final datasets for training and testing\n",
    "print(f\"Final shape of the train dataset: {X_final.shape}\")\n",
    "print(f\"Final shape of the test dataset: {X_test_final.shape}\")\n",
    "print(f\"Final shape of the training part of the train dataset: {X_train_final.shape}\")\n",
    "print(f\"Final shape of the testing part of the train dataset: {X_val_final.shape}\")"
   ]
  },
  {
   "cell_type": "markdown",
   "metadata": {},
   "source": [
    "### Grid Search"
   ]
  },
  {
   "cell_type": "code",
   "execution_count": null,
   "metadata": {},
   "outputs": [],
   "source": [
    "xgb = XGBClassifier(random_state=2023)\n",
    "le = LabelEncoder()\n",
    "y_train_xgb = le.fit_transform(y_train)\n",
    "\n",
    "param_grid_xgb = {\n",
    "    'n_estimators': [100, 200],  # Number of boosting rounds\n",
    "    'max_depth': [3, 5, 7],  # Maximum depth of a tree\n",
    "    'learning_rate': [0.01, 0.1],  # Step size shrinkage used to prevent overfitting\n",
    "    'subsample': [0.8, 1.0],  # Fraction of samples used for training each tree\n",
    "    'colsample_bytree': [0.8, 1.0],  # Fraction of features used for training each tree\n",
    "    'gamma': [0, 0.1, 0.2],  # Minimum loss reduction required for a split\n",
    "    'reg_alpha': [0, 0.1],  # L1 regularization term on weights\n",
    "    'reg_lambda': [0, 0.1],  # L2 regularization term on weights\n",
    "    'min_child_weight': [1, 3, 5]  # Minimum sum of instance weight needed for a node split\n",
    "}\n",
    "\n",
    "grid_searcgXGB = GridSearchCV(xgb, param_grid_xgb, cv=3, refit=True, verbose=3, scoring='f1_macro')\n",
    "grid_searcgXGB.fit(X_train_final, y_train_xgb)\n",
    "grid_predictionGBC = grid_searcgXGB.predict(X_val_final)\n",
    "\n",
    "print(\"Best estimator: \", grid_searcgXGB.best_estimator_)\n",
    "print(\"Best parameters: \", grid_searcgXGB.best_params_)\n",
    "print(classification_report(le.transform(y_val), grid_predictionGBC, target_names=le.classes_))\n",
    "\n",
    "ConfusionMatrixDisplay.from_predictions(le.transform(y_val), grid_predictionGBC)\n",
    "plt.show()"
   ]
  },
  {
   "cell_type": "markdown",
   "metadata": {},
   "source": [
    "### XGBoost Prediction"
   ]
  },
  {
   "cell_type": "code",
   "execution_count": 23,
   "metadata": {},
   "outputs": [],
   "source": [
    "label_mapping = {'AD-AD': 0, 'CN-CN': 1, 'CN-MCI': 2, 'MCI-AD': 3, 'MCI-MCI': 4}\n",
    "y = le.fit_transform(y)\n",
    "\n",
    "XGB_best = grid_searcgXGB.best_estimator_\n",
    "\n",
    "XGB_best.fit(X_final, y)\n",
    "predictionsXGB = XGB_best.predict(X_test_final)\n",
    "\n",
    "inverted_label_mapping = {v: k for k, v in label_mapping.items()}\n",
    "predictionsXGB = np.vectorize(inverted_label_mapping.get)(predictionsXGB)\n",
    "\n",
    "with open('../../predictions/xgb.csv', 'w') as results:\n",
    "    results.write('RowId,Result\\n')\n",
    "    i = 1\n",
    "    for p in predictionsXGB:\n",
    "        results.write(f'{i},{p}\\n')\n",
    "        i+=1"
   ]
  },
  {
   "cell_type": "code",
   "execution_count": 19,
   "metadata": {},
   "outputs": [],
   "source": [
    "params = {k: v for k, v in XGB_best.get_params().items() if v is not None}\n",
    "\n",
    "with open('../../info/xgb_params.txt', 'w') as f:\n",
    "    for param, value in params.items():\n",
    "        f.write(f\"{param}: {value}\\n\")"
   ]
  }
 ],
 "metadata": {
  "kernelspec": {
   "display_name": "DAA",
   "language": "python",
   "name": "python3"
  },
  "language_info": {
   "codemirror_mode": {
    "name": "ipython",
    "version": 3
   },
   "file_extension": ".py",
   "mimetype": "text/x-python",
   "name": "python",
   "nbconvert_exporter": "python",
   "pygments_lexer": "ipython3",
   "version": "3.12.2"
  }
 },
 "nbformat": 4,
 "nbformat_minor": 2
}

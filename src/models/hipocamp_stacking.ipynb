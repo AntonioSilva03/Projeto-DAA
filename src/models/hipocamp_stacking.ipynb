{
 "cells": [
  {
   "cell_type": "markdown",
   "metadata": {},
   "source": [
    "# Stacking Classifier"
   ]
  },
  {
   "cell_type": "code",
   "execution_count": 5,
   "metadata": {},
   "outputs": [],
   "source": [
    "import pandas as pd\n",
    "import numpy as np\n",
    "from sklearn.tree import DecisionTreeClassifier\n",
    "from sklearn.svm import SVC\n",
    "from sklearn.ensemble import RandomForestClassifier\n",
    "from sklearn.linear_model import LogisticRegression\n",
    "from sklearn.preprocessing import LabelEncoder\n",
    "import xgboost as xgb\n",
    "from xgboost.sklearn import XGBClassifier\n",
    "from sklearn.metrics import classification_report\n",
    "from sklearn.ensemble import GradientBoostingClassifier, VotingClassifier, BaggingClassifier, StackingClassifier\n",
    "from sklearn.model_selection import train_test_split, cross_val_score, GridSearchCV, StratifiedKFold\n",
    "from sklearn import tree"
   ]
  },
  {
   "cell_type": "markdown",
   "metadata": {},
   "source": [
    "Load datasets manuseados"
   ]
  },
  {
   "cell_type": "code",
   "execution_count": 6,
   "metadata": {},
   "outputs": [],
   "source": [
    "df_train = pd.read_csv('../../datasets_manuseados/train_radiomics_hipocamp_treated.csv')\n",
    "df_test = pd.read_csv('../../datasets_manuseados/test_radiomics_hipocamp_treated.csv')"
   ]
  },
  {
   "cell_type": "markdown",
   "metadata": {},
   "source": [
    "Float64/Int64 to Float32/Int32"
   ]
  },
  {
   "cell_type": "code",
   "execution_count": 7,
   "metadata": {},
   "outputs": [
    {
     "name": "stdout",
     "output_type": "stream",
     "text": [
      "<class 'pandas.core.frame.DataFrame'>\n",
      "RangeIndex: 305 entries, 0 to 304\n",
      "Columns: 1898 entries, RowId to Transition\n",
      "dtypes: float32(1896), int32(1), object(1)\n",
      "memory usage: 2.2+ MB\n",
      "--------------------\n",
      "<class 'pandas.core.frame.DataFrame'>\n",
      "RangeIndex: 100 entries, 0 to 99\n",
      "Columns: 1897 entries, RowId to Age\n",
      "dtypes: float32(1896), int32(1)\n",
      "memory usage: 741.1 KB\n"
     ]
    }
   ],
   "source": [
    "float_features = df_train.select_dtypes(include='float')\n",
    "int_features = df_train.select_dtypes(include='int')\n",
    "df_train[float_features.columns] = df_train[float_features.columns].astype(np.float32)\n",
    "df_train[int_features.columns] = df_train[int_features.columns].astype(np.int32)\n",
    "df_train.info()\n",
    "print(\"--------------------\")\n",
    "float_features = df_test.select_dtypes(include='float')\n",
    "int_features = df_test.select_dtypes(include='int')\n",
    "df_test[float_features.columns] = df_test[float_features.columns].astype(np.float32)\n",
    "df_test[int_features.columns] = df_test[int_features.columns].astype(np.int32)\n",
    "df_test.info()"
   ]
  },
  {
   "cell_type": "markdown",
   "metadata": {},
   "source": [
    "Model training and predict"
   ]
  },
  {
   "cell_type": "code",
   "execution_count": null,
   "metadata": {},
   "outputs": [],
   "source": [
    "X = df_train.drop('Transition', axis=1)\n",
    "y = df_train['Transition']\n",
    "X = X.drop('RowId', axis=1)\n",
    "X_teste = df_test.drop('RowId', axis=1)\n",
    "\n",
    "X_train, X_val, y_train, y_val = train_test_split(X, y, test_size=0.2, random_state=2024)\n",
    "\n",
    "# Decision Tree\n",
    "dt = DecisionTreeClassifier(max_depth=5, max_leaf_nodes= 15, min_samples_leaf=5, min_samples_split=15, random_state=2024)\n",
    "dt.fit(X_train, y_train)\n",
    "\n",
    "# SVM\n",
    "svm = SVC(C=1, kernel='rbf', random_state=2024)\n",
    "svm.fit(X_train, y_train)\n",
    "\n",
    "# Random Forest\n",
    "rf = RandomForestClassifier(bootstrap=False, max_depth=10, max_features=10, n_estimators=100, random_state=2024)\n",
    "rf.fit(X_train, y_train)\n",
    "\n",
    "# Gradient Boosting\n",
    "gbc = GradientBoostingClassifier(learning_rate=0.1, max_depth=5, max_features=10, n_estimators=100, random_state=2024)\n",
    "gbc.fit(X_train, y_train)\n",
    "\n",
    "# XGBoost\n",
    "xgb = XGBClassifier(learning_rate=0.1, max_depth=5, n_estimators=100, random_state=2024)\n",
    "le = LabelEncoder()\n",
    "y_train_xgb = le.fit_transform(y_train)\n",
    "xgb.fit(X_train, y_train_xgb)\n",
    "\n",
    "cv = StratifiedKFold(n_splits=5, shuffle=True, random_state=2024)\n",
    "final_estimator = LogisticRegression(max_iter=500, random_state=2024)\n",
    "\n",
    "estimators = [('dt', dt), ('svm', svm), ('rf', rf), ('gbc', gbc), ('xgb', xgb)]\n",
    "stc_model = StackingClassifier(estimators=estimators, final_estimator=final_estimator, cv=cv)\n",
    "stc_model.fit(X_train, y_train)\n",
    "\n",
    "stc_predictions = stc_model.predict(X_teste)\n",
    "\n",
    "op_stc = pd.DataFrame(df_test['RowId'])\n",
    "op_stc['Transition'] = stc_predictions\n",
    "op_stc.to_csv(\"../../predictions/stc.csv\", index=False)\n"
   ]
  }
 ],
 "metadata": {
  "kernelspec": {
   "display_name": "DAA",
   "language": "python",
   "name": "python3"
  },
  "language_info": {
   "codemirror_mode": {
    "name": "ipython",
    "version": 3
   },
   "file_extension": ".py",
   "mimetype": "text/x-python",
   "name": "python",
   "nbconvert_exporter": "python",
   "pygments_lexer": "ipython3",
   "version": "3.12.2"
  }
 },
 "nbformat": 4,
 "nbformat_minor": 2
}

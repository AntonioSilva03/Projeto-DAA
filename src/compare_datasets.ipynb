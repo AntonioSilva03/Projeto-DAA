{
 "cells": [
  {
   "cell_type": "markdown",
   "metadata": {},
   "source": [
    "# Comparação dos dois datasets de treino originais\n",
    "\n"
   ]
  },
  {
   "cell_type": "code",
   "execution_count": 24,
   "metadata": {},
   "outputs": [],
   "source": [
    "import pandas as pd"
   ]
  },
  {
   "cell_type": "markdown",
   "metadata": {},
   "source": [
    "Load CSVs"
   ]
  },
  {
   "cell_type": "code",
   "execution_count": 25,
   "metadata": {},
   "outputs": [],
   "source": [
    "df_occ = pd.read_csv('../datasets_originais/train_radiomics_occipital_CONTROL.csv')\n",
    "df_hippo = pd.read_csv('../datasets_originais/train_radiomics_hipocamp.csv')"
   ]
  },
  {
   "cell_type": "markdown",
   "metadata": {},
   "source": [
    "Number of columns of each one"
   ]
  },
  {
   "cell_type": "code",
   "execution_count": 26,
   "metadata": {},
   "outputs": [
    {
     "name": "stdout",
     "output_type": "stream",
     "text": [
      "Shape occipital: (305, 2181)\n",
      "Shape hipocamp: (305, 2181)\n"
     ]
    }
   ],
   "source": [
    "shape_occ = df_occ.shape\n",
    "shape_hippo = df_hippo.shape\n",
    "\n",
    "print('Shape occipital:', shape_occ)\n",
    "print('Shape hipocamp:', shape_hippo)"
   ]
  },
  {
   "cell_type": "markdown",
   "metadata": {},
   "source": [
    "Column types"
   ]
  },
  {
   "cell_type": "code",
   "execution_count": 27,
   "metadata": {},
   "outputs": [
    {
     "name": "stdout",
     "output_type": "stream",
     "text": [
      "<class 'pandas.core.frame.DataFrame'>\n",
      "RangeIndex: 305 entries, 0 to 304\n",
      "Columns: 2181 entries, ID to Transition\n",
      "dtypes: float64(2014), int64(147), object(20)\n",
      "memory usage: 5.1+ MB\n",
      "--------------------\n",
      "<class 'pandas.core.frame.DataFrame'>\n",
      "RangeIndex: 305 entries, 0 to 304\n",
      "Columns: 2181 entries, ID to Transition\n",
      "dtypes: float64(2014), int64(147), object(20)\n",
      "memory usage: 5.1+ MB\n"
     ]
    }
   ],
   "source": [
    "df_occ.info()\n",
    "print(\"--------------------\")\n",
    "df_hippo.info()"
   ]
  },
  {
   "cell_type": "markdown",
   "metadata": {},
   "source": [
    "Are all the columns names the same?"
   ]
  },
  {
   "cell_type": "code",
   "execution_count": 28,
   "metadata": {},
   "outputs": [
    {
     "name": "stdout",
     "output_type": "stream",
     "text": [
      "All columns have the same names.\n"
     ]
    }
   ],
   "source": [
    "columns_occ = set(df_occ.columns)\n",
    "columns_hippo = set(df_hippo.columns)\n",
    "\n",
    "if columns_occ == columns_hippo:\n",
    "    print(\"All columns have the same names.\")\n",
    "else:\n",
    "    print(\"The columns do not have the same names.\")\n",
    "    print(\"Columns in df_occ but not in df_hippo:\", columns_occ - columns_hippo)\n",
    "    print(\"Columns in df_hippo but not in df_occ:\", columns_hippo - columns_occ)"
   ]
  },
  {
   "cell_type": "markdown",
   "metadata": {},
   "source": [
    "Which columns have the same values?"
   ]
  },
  {
   "cell_type": "code",
   "execution_count": 34,
   "metadata": {},
   "outputs": [],
   "source": [
    "common_columns = []\n",
    "\n",
    "for column in columns_occ.intersection(columns_hippo):\n",
    "    if df_occ[column].equals(df_hippo[column]):\n",
    "        common_columns.append(column)\n",
    "\n",
    "common_columns_by_type = {'float': [], 'int': [], 'object': []}\n",
    "\n",
    "for column in common_columns:\n",
    "    if df_occ[column].dtype == 'float64':\n",
    "        common_columns_by_type['float'].append(column)\n",
    "    elif df_occ[column].dtype == 'int64':\n",
    "        common_columns_by_type['int'].append(column)\n",
    "    elif df_occ[column].dtype == 'object':\n",
    "        common_columns_by_type['object'].append(column)\n",
    "\n",
    "with open('../info/common_columns_by_type.txt', 'w') as f:\n",
    "    for dtype, columns in common_columns_by_type.items():\n",
    "        f.write(f\"{dtype} ({len(columns)} columns):\\n\")\n",
    "        for column in columns:\n",
    "            f.write(f\"  {column}\\n\")\n",
    "    f.write(\"Total common columns: \" + str(len(common_columns)) + \" out of \" + str(len(columns_occ)) + \" columns.\")"
   ]
  }
 ],
 "metadata": {
  "kernelspec": {
   "display_name": "DAA",
   "language": "python",
   "name": "python3"
  },
  "language_info": {
   "codemirror_mode": {
    "name": "ipython",
    "version": 3
   },
   "file_extension": ".py",
   "mimetype": "text/x-python",
   "name": "python",
   "nbconvert_exporter": "python",
   "pygments_lexer": "ipython3",
   "version": "3.12.2"
  }
 },
 "nbformat": 4,
 "nbformat_minor": 2
}

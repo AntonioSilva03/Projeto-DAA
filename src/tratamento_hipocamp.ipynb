{
 "cells": [
  {
   "cell_type": "markdown",
   "metadata": {},
   "source": [
    "# Dados e Aprendizagem Automática\n",
    "### Tratamento dos Datasets do Hipocamp"
   ]
  },
  {
   "cell_type": "code",
   "execution_count": 37,
   "metadata": {},
   "outputs": [],
   "source": [
    "import pandas as pd\n",
    "import numpy as np"
   ]
  },
  {
   "cell_type": "markdown",
   "metadata": {},
   "source": [
    "Load CSVs"
   ]
  },
  {
   "cell_type": "code",
   "execution_count": 38,
   "metadata": {},
   "outputs": [],
   "source": [
    "df_train = pd.read_csv('../datasets_originais/train_radiomics_hipocamp.csv')\n",
    "df_test = pd.read_csv('../datasets_originais/test_radiomics_hipocamp.csv')"
   ]
  },
  {
   "cell_type": "markdown",
   "metadata": {},
   "source": [
    "How many columns"
   ]
  },
  {
   "cell_type": "code",
   "execution_count": 39,
   "metadata": {},
   "outputs": [
    {
     "name": "stdout",
     "output_type": "stream",
     "text": [
      "Train shape: 305 rows and 2181 columns\n",
      "Test shape: 100 rows and 2180 columns\n"
     ]
    }
   ],
   "source": [
    "shape_train = df_train.shape\n",
    "shape_test = df_test.shape\n",
    "\n",
    "print(f'Train shape: {shape_train[0]} rows and {shape_train[1]} columns')\n",
    "print(f'Test shape: {shape_test[0]} rows and {shape_test[1]} columns')"
   ]
  },
  {
   "cell_type": "markdown",
   "metadata": {},
   "source": [
    "Analisar os tipos de cada coluna"
   ]
  },
  {
   "cell_type": "code",
   "execution_count": 40,
   "metadata": {},
   "outputs": [
    {
     "name": "stdout",
     "output_type": "stream",
     "text": [
      "<class 'pandas.core.frame.DataFrame'>\n",
      "RangeIndex: 305 entries, 0 to 304\n",
      "Columns: 2181 entries, ID to Transition\n",
      "dtypes: float64(2014), int64(147), object(20)\n",
      "memory usage: 5.1+ MB\n",
      "--------------------\n",
      "<class 'pandas.core.frame.DataFrame'>\n",
      "RangeIndex: 100 entries, 0 to 99\n",
      "Columns: 2180 entries, ID to Age\n",
      "dtypes: float64(2011), int64(150), object(19)\n",
      "memory usage: 1.7+ MB\n"
     ]
    }
   ],
   "source": [
    "df_train.info()\n",
    "print(\"--------------------\")\n",
    "df_test.info()"
   ]
  },
  {
   "cell_type": "markdown",
   "metadata": {},
   "source": [
    "Checking missing values"
   ]
  },
  {
   "cell_type": "code",
   "execution_count": 41,
   "metadata": {},
   "outputs": [],
   "source": [
    "missing_values = df_train.isna().sum()\n",
    "missing_values = missing_values[missing_values > 0]\n",
    "if not missing_values.empty:\n",
    "    print(missing_values)\n",
    "    print(\"--------------------\")\n",
    "missing_values = df_test.isna().sum()\n",
    "missing_values = missing_values[missing_values > 0]\n",
    "if not missing_values.empty:\n",
    "    print(missing_values)\n",
    "\n",
    "# THERE ARE NO MISSING VALUES"
   ]
  },
  {
   "cell_type": "markdown",
   "metadata": {},
   "source": [
    "Unique values"
   ]
  },
  {
   "cell_type": "code",
   "execution_count": 42,
   "metadata": {},
   "outputs": [
    {
     "name": "stdout",
     "output_type": "stream",
     "text": [
      "Number of columns with the same value in all rows (Train): 159\n",
      "Number of columns with the same value in all rows (Train): 159\n"
     ]
    }
   ],
   "source": [
    "# Find columns where every row has the same value TRAIN\n",
    "same_value_columns_train = df_train.columns[df_train.nunique() == 1]\n",
    "print(f'Number of columns with the same value in all rows (Train): {len(same_value_columns_train)}')\n",
    "df_train = df_train.drop(columns=same_value_columns_train)\n",
    "\n",
    "# Find columns where every row has the same value TEST\n",
    "same_value_columns_test = df_test.columns[df_test.nunique() == 1]\n",
    "print(f'Number of columns with the same value in all rows (Train): {len(same_value_columns_test)}')\n",
    "df_test = df_test.drop(columns=same_value_columns_test)"
   ]
  },
  {
   "cell_type": "markdown",
   "metadata": {},
   "source": [
    "Remove all the duplicated columns except one"
   ]
  },
  {
   "cell_type": "code",
   "execution_count": 43,
   "metadata": {},
   "outputs": [
    {
     "name": "stdout",
     "output_type": "stream",
     "text": [
      "Number of duplicated columns: 112\n"
     ]
    }
   ],
   "source": [
    "def remove_duplicated_columns(df_train, df_test):\n",
    "    # Seleciona as colunas do tipo float64\n",
    "    float_columns_train = df_train.select_dtypes(include=[np.number])\n",
    "    \n",
    "    # Identifica colunas duplicadas com base no conteúdo\n",
    "    duplicated_columns_train = float_columns_train.T.duplicated(keep=False)\n",
    "    \n",
    "    # Filtra apenas as colunas duplicadas e seus conteúdos\n",
    "    duplicated_data_train = float_columns_train.loc[:, duplicated_columns_train]\n",
    "    \n",
    "    # Agrupa as colunas duplicadas por seu conteúdo\n",
    "    grouped_duplicates_train = duplicated_data_train.T.groupby(list(duplicated_data_train.T)).groups\n",
    "    \n",
    "    columns_to_remove = []\n",
    "    # Loop por cada grupo de colunas duplicadas, mantendo a primeira e removendo as demais\n",
    "    for content, columns in grouped_duplicates_train.items():\n",
    "        columns_to_remove.extend(columns[1:])  # Ignora a primeira coluna e apaga as restantes\n",
    "    \n",
    "    # Remove duplicated columns from both train and test datasets\n",
    "    print(f'Number of duplicated columns: {len(columns_to_remove)}')\n",
    "    df_train.drop(columns=columns_to_remove, inplace=True)\n",
    "    df_test.drop(columns=[col for col in columns_to_remove if col in df_test.columns], inplace=True)\n",
    "    \n",
    "    return df_train, df_test\n",
    "\n",
    "# Uso da função\n",
    "df_train, df_test = remove_duplicated_columns(df_train, df_test)\n"
   ]
  },
  {
   "cell_type": "markdown",
   "metadata": {},
   "source": [
    "Remove all the object columns "
   ]
  },
  {
   "cell_type": "code",
   "execution_count": 44,
   "metadata": {},
   "outputs": [],
   "source": [
    "df_train = df_train.drop(columns=[col for col in df_train.select_dtypes(include=['object']).columns if col != 'Transition'])\n",
    "df_test = df_test.drop(columns=[col for col in df_test.select_dtypes(include=['object']).columns if col != 'Transition'])"
   ]
  },
  {
   "cell_type": "markdown",
   "metadata": {},
   "source": [
    "Tratamento de outliers\n"
   ]
  },
  {
   "cell_type": "raw",
   "metadata": {
    "vscode": {
     "languageId": "raw"
    }
   },
   "source": [
    "def cap_outliers(df):\n",
    "    for column in df.select_dtypes(include=[np.number]).columns:\n",
    "        Q1 = df[column].quantile(0.25)\n",
    "        Q3 = df[column].quantile(0.75)\n",
    "        IQR = Q3 - Q1\n",
    "        lower_bound = Q1 - 1.5 * IQR\n",
    "        upper_bound = Q3 + 1.5 * IQR\n",
    "        df[column] = np.where(df[column] < lower_bound, lower_bound, df[column])\n",
    "        df[column] = np.where(df[column] > upper_bound, upper_bound, df[column])\n",
    "    return df\n",
    "\n",
    "# Aplicar a função ao dataframe df_train e depois ao df_test\n",
    "df_train = cap_outliers(df_train)\n",
    "df_test = cap_outliers(df_test)"
   ]
  },
  {
   "cell_type": "markdown",
   "metadata": {},
   "source": [
    "Normalizar valores"
   ]
  },
  {
   "cell_type": "code",
   "execution_count": 45,
   "metadata": {},
   "outputs": [],
   "source": [
    "from sklearn.preprocessing import MinMaxScaler\n",
    "\n",
    "def normalize_dataframe(df):\n",
    "    scaler = MinMaxScaler()\n",
    "    float_columns = df.select_dtypes(include=[np.number]).columns\n",
    "    df[float_columns] = scaler.fit_transform(df[float_columns])\n",
    "    return df\n",
    "\n",
    "# Aplicar a função ao dataframe df_train e depois ao df_test\n",
    "df_train = normalize_dataframe(df_train)\n",
    "df_test = normalize_dataframe(df_test)"
   ]
  },
  {
   "cell_type": "markdown",
   "metadata": {},
   "source": [
    "Check how many different transitions TRAIN and types"
   ]
  },
  {
   "cell_type": "code",
   "execution_count": 46,
   "metadata": {},
   "outputs": [
    {
     "name": "stdout",
     "output_type": "stream",
     "text": [
      "There are 5 different transitions.\n",
      "Transition\n",
      "CN-CN      96\n",
      "MCI-MCI    71\n",
      "MCI-AD     68\n",
      "AD-AD      60\n",
      "CN-MCI     10\n",
      "Name: count, dtype: int64\n"
     ]
    }
   ],
   "source": [
    "if 'Transition' in df_train.columns:\n",
    "    unique_transitions = df_train['Transition'].nunique()\n",
    "    print(f\"There are {unique_transitions} different transitions.\")\n",
    "    transition_counts = df_train['Transition'].value_counts()\n",
    "    print(transition_counts)"
   ]
  },
  {
   "cell_type": "markdown",
   "metadata": {},
   "source": [
    "Checking correlation"
   ]
  },
  {
   "cell_type": "code",
   "execution_count": 47,
   "metadata": {},
   "outputs": [],
   "source": [
    "df_train_numeric = df_train.copy()\n",
    "transition_mapping = {transition: idx + 1 for idx, transition in enumerate(df_train['Transition'].unique())}\n",
    "df_train_numeric['Transition'] = df_train_numeric['Transition'].map(transition_mapping)\n",
    "correlation_matrix = df_train_numeric.corr()\n",
    "correlation_with_target = correlation_matrix['Transition'].sort_values(ascending=False)\n",
    "with open('../check_files_hip/correlation_with_target.txt', 'w') as file:\n",
    "    file.write(\"Correlation with target (Transition):\\n\")\n",
    "    file.write(correlation_with_target.to_string())"
   ]
  },
  {
   "cell_type": "markdown",
   "metadata": {},
   "source": [
    "Save new dataset"
   ]
  },
  {
   "cell_type": "code",
   "execution_count": 48,
   "metadata": {},
   "outputs": [
    {
     "name": "stdout",
     "output_type": "stream",
     "text": [
      "(100, 1901)\n",
      "(305, 1902)\n"
     ]
    }
   ],
   "source": [
    "print(df_test.shape)\n",
    "print(df_train.shape)\n",
    "\n",
    "# Save the train and test datasets\n",
    "df_train.to_csv('../datasets_manuseados/train_radiomics_hipocamp_treated.csv', index=False)\n",
    "df_test.to_csv('../datasets_manuseados/test_radiomics_hipocamp_treated.csv', index=False)"
   ]
  }
 ],
 "metadata": {
  "kernelspec": {
   "display_name": "DAA",
   "language": "python",
   "name": "python3"
  },
  "language_info": {
   "codemirror_mode": {
    "name": "ipython",
    "version": 3
   },
   "file_extension": ".py",
   "mimetype": "text/x-python",
   "name": "python",
   "nbconvert_exporter": "python",
   "pygments_lexer": "ipython3",
   "version": "3.12.2"
  }
 },
 "nbformat": 4,
 "nbformat_minor": 2
}

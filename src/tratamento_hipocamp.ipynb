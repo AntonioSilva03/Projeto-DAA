{
 "cells": [
  {
   "cell_type": "markdown",
   "metadata": {},
   "source": [
    "# Dados e Aprendizagem Automática\n",
    "### Tratamento dos Datasets do Hipocamp"
   ]
  },
  {
   "cell_type": "code",
   "execution_count": 96,
   "metadata": {},
   "outputs": [],
   "source": [
    "from sklearn.model_selection import train_test_split\n",
    "from sklearn.tree import DecisionTreeClassifier\n",
    "from sklearn.tree import DecisionTreeRegressor\n",
    "from sklearn.metrics import confusion_matrix\n",
    "from sklearn.metrics import recall_score\n",
    "from sklearn.metrics import accuracy_score\n",
    "from sklearn.metrics import precision_score\n",
    "from sklearn.metrics import roc_auc_score\n",
    "from sklearn.metrics import roc_curve\n",
    "from sklearn.metrics import f1_score\n",
    "from sklearn.metrics import fbeta_score\n",
    "from sklearn.metrics import mean_absolute_error\n",
    "from sklearn.metrics import mean_squared_error\n",
    "from sklearn.metrics import root_mean_squared_error\n",
    "import matplotlib.pyplot as plt\n",
    "import pandas as pd\n",
    "import numpy as np\n",
    "\n",
    "from sklearn.model_selection import cross_val_score"
   ]
  },
  {
   "cell_type": "markdown",
   "metadata": {},
   "source": [
    "Load CSVs"
   ]
  },
  {
   "cell_type": "code",
   "execution_count": 97,
   "metadata": {},
   "outputs": [],
   "source": [
    "df_train = pd.read_csv('../datasets/train_radiomics_hipocamp.csv')\n",
    "df_test = pd.read_csv('../datasets/test_radiomics_hipocamp.csv')"
   ]
  },
  {
   "cell_type": "markdown",
   "metadata": {},
   "source": [
    "How many columns"
   ]
  },
  {
   "cell_type": "code",
   "execution_count": 98,
   "metadata": {},
   "outputs": [
    {
     "name": "stdout",
     "output_type": "stream",
     "text": [
      "Train shape: 305 rows and 2181 columns\n",
      "Test shape: 100 rows and 2180 columns\n"
     ]
    }
   ],
   "source": [
    "shape_train = df_train.shape\n",
    "shape_test = df_test.shape\n",
    "\n",
    "print(f'Train shape: {shape_train[0]} rows and {shape_train[1]} columns')\n",
    "print(f'Test shape: {shape_test[0]} rows and {shape_test[1]} columns')"
   ]
  },
  {
   "cell_type": "markdown",
   "metadata": {},
   "source": [
    "Analisar os tipos de cada coluna"
   ]
  },
  {
   "cell_type": "code",
   "execution_count": 99,
   "metadata": {},
   "outputs": [
    {
     "name": "stdout",
     "output_type": "stream",
     "text": [
      "<class 'pandas.core.frame.DataFrame'>\n",
      "RangeIndex: 305 entries, 0 to 304\n",
      "Columns: 2181 entries, ID to Transition\n",
      "dtypes: float64(2014), int64(147), object(20)\n",
      "memory usage: 5.1+ MB\n",
      "--------------------\n",
      "<class 'pandas.core.frame.DataFrame'>\n",
      "RangeIndex: 100 entries, 0 to 99\n",
      "Columns: 2180 entries, ID to Age\n",
      "dtypes: float64(2011), int64(150), object(19)\n",
      "memory usage: 1.7+ MB\n"
     ]
    }
   ],
   "source": [
    "df_train.info()\n",
    "print(\"--------------------\")\n",
    "df_test.info()"
   ]
  },
  {
   "cell_type": "markdown",
   "metadata": {},
   "source": [
    "There are no missing values"
   ]
  },
  {
   "cell_type": "code",
   "execution_count": 100,
   "metadata": {},
   "outputs": [],
   "source": [
    "missing_values = df_train.isna().sum()\n",
    "missing_values = missing_values[missing_values > 0]\n",
    "if not missing_values.empty:\n",
    "    print(missing_values)\n",
    "    print(\"--------------------\")\n",
    "missing_values = df_test.isna().sum()\n",
    "missing_values = missing_values[missing_values > 0]\n",
    "if not missing_values.empty:\n",
    "    print(missing_values)"
   ]
  },
  {
   "cell_type": "markdown",
   "metadata": {},
   "source": [
    "Dropping unique value columns"
   ]
  },
  {
   "cell_type": "code",
   "execution_count": 101,
   "metadata": {},
   "outputs": [],
   "source": [
    "# Find columns where every row has the same value TRAIN\n",
    "same_value_columns_train = df_train.columns[df_train.nunique() == 1]\n",
    "df_train = df_train.drop(columns=same_value_columns_train)\n",
    "\n",
    "# Find columns where every row has the same value TEST\n",
    "same_value_columns_test = df_test.columns[df_test.nunique() == 1]\n",
    "df_test = df_test.drop(columns=same_value_columns_test)"
   ]
  },
  {
   "cell_type": "markdown",
   "metadata": {},
   "source": [
    "Remove all the duplicated columns except one"
   ]
  },
  {
   "cell_type": "code",
   "execution_count": 102,
   "metadata": {},
   "outputs": [],
   "source": [
    "def remove_duplicated_columns(df_train, df_test):\n",
    "    # Seleciona as colunas do tipo float64\n",
    "    float_columns_train = df_train.select_dtypes(include=[np.number])\n",
    "    \n",
    "    # Identifica colunas duplicadas com base no conteúdo\n",
    "    duplicated_columns_train = float_columns_train.T.duplicated(keep=False)\n",
    "    \n",
    "    # Filtra apenas as colunas duplicadas e seus conteúdos\n",
    "    duplicated_data_train = float_columns_train.loc[:, duplicated_columns_train]\n",
    "    \n",
    "    # Agrupa as colunas duplicadas por seu conteúdo\n",
    "    grouped_duplicates_train = duplicated_data_train.T.groupby(list(duplicated_data_train.T)).groups\n",
    "    \n",
    "    columns_to_remove = []\n",
    "    # Loop por cada grupo de colunas duplicadas, mantendo a primeira e removendo as demais\n",
    "    for content, columns in grouped_duplicates_train.items():\n",
    "        columns_to_remove.extend(columns[1:])  # Ignora a primeira coluna e apaga as restantes\n",
    "    \n",
    "    # Remove duplicated columns from both train and test datasets\n",
    "    df_train.drop(columns=columns_to_remove, inplace=True)\n",
    "    df_test.drop(columns=[col for col in columns_to_remove if col in df_test.columns], inplace=True)\n",
    "    \n",
    "    return df_train, df_test\n",
    "\n",
    "# Uso da função\n",
    "df_train, df_test = remove_duplicated_columns(df_train, df_test)"
   ]
  },
  {
   "cell_type": "markdown",
   "metadata": {},
   "source": [
    "Remove all the object columns "
   ]
  },
  {
   "cell_type": "code",
   "execution_count": 103,
   "metadata": {},
   "outputs": [],
   "source": [
    "df_train = df_train.drop(columns=[col for col in df_train.select_dtypes(include=['object']).columns if col != 'Transition'])\n",
    "df_test = df_test.drop(columns=[col for col in df_test.select_dtypes(include=['object']).columns if col != 'Transition'])"
   ]
  },
  {
   "cell_type": "markdown",
   "metadata": {},
   "source": [
    "Tratamento de outliers\n"
   ]
  },
  {
   "cell_type": "code",
   "execution_count": 104,
   "metadata": {},
   "outputs": [
    {
     "data": {
      "text/plain": [
       "'def cap_outliers(df):\\n    for column in df.select_dtypes(include=[np.number]).columns:\\n        Q1 = df[column].quantile(0.25)\\n        Q3 = df[column].quantile(0.75)\\n        IQR = Q3 - Q1\\n        lower_bound = Q1 - 1.5 * IQR\\n        upper_bound = Q3 + 1.5 * IQR\\n        df[column] = np.where(df[column] < lower_bound, lower_bound, df[column])\\n        df[column] = np.where(df[column] > upper_bound, upper_bound, df[column])\\n    return df\\n\\n# Aplicar a função ao dataframe df_train e depois ao df_test\\ndf_train = cap_outliers(df_train)\\ndf_test = cap_outliers(df_test)'"
      ]
     },
     "execution_count": 104,
     "metadata": {},
     "output_type": "execute_result"
    }
   ],
   "source": [
    "'''def cap_outliers(df):\n",
    "    for column in df.select_dtypes(include=[np.number]).columns:\n",
    "        Q1 = df[column].quantile(0.25)\n",
    "        Q3 = df[column].quantile(0.75)\n",
    "        IQR = Q3 - Q1\n",
    "        lower_bound = Q1 - 1.5 * IQR\n",
    "        upper_bound = Q3 + 1.5 * IQR\n",
    "        df[column] = np.where(df[column] < lower_bound, lower_bound, df[column])\n",
    "        df[column] = np.where(df[column] > upper_bound, upper_bound, df[column])\n",
    "    return df\n",
    "\n",
    "# Aplicar a função ao dataframe df_train e depois ao df_test\n",
    "df_train = cap_outliers(df_train)\n",
    "df_test = cap_outliers(df_test)'''"
   ]
  },
  {
   "cell_type": "markdown",
   "metadata": {},
   "source": [
    "Normalizar valores"
   ]
  },
  {
   "cell_type": "code",
   "execution_count": 105,
   "metadata": {},
   "outputs": [
    {
     "data": {
      "text/plain": [
       "'from sklearn.preprocessing import MinMaxScaler\\n\\ndef normalize_dataframe(df):\\n    scaler = MinMaxScaler()\\n    float_columns = df.select_dtypes(include=[np.number]).columns\\n    df[float_columns] = scaler.fit_transform(df[float_columns])\\n    return df\\n\\n# Aplicar a função ao dataframe df_train e depois ao df_test\\ndf_train = normalize_dataframe(df_train)\\ndf_test = normalize_dataframe(df_test)'"
      ]
     },
     "execution_count": 105,
     "metadata": {},
     "output_type": "execute_result"
    }
   ],
   "source": [
    "'''from sklearn.preprocessing import MinMaxScaler\n",
    "\n",
    "def normalize_dataframe(df):\n",
    "    scaler = MinMaxScaler()\n",
    "    float_columns = df.select_dtypes(include=[np.number]).columns\n",
    "    df[float_columns] = scaler.fit_transform(df[float_columns])\n",
    "    return df\n",
    "\n",
    "# Aplicar a função ao dataframe df_train e depois ao df_test\n",
    "df_train = normalize_dataframe(df_train)\n",
    "df_test = normalize_dataframe(df_test)'''"
   ]
  },
  {
   "cell_type": "markdown",
   "metadata": {},
   "source": [
    "Check how many different transitions TRAIN"
   ]
  },
  {
   "cell_type": "code",
   "execution_count": 106,
   "metadata": {},
   "outputs": [
    {
     "name": "stdout",
     "output_type": "stream",
     "text": [
      "There are 5 different transitions.\n",
      "Transition\n",
      "CN-CN      96\n",
      "MCI-MCI    71\n",
      "MCI-AD     68\n",
      "AD-AD      60\n",
      "CN-MCI     10\n",
      "Name: count, dtype: int64\n"
     ]
    }
   ],
   "source": [
    "if 'Transition' in df_train.columns:\n",
    "    unique_transitions = df_train['Transition'].nunique()\n",
    "    print(f\"There are {unique_transitions} different transitions.\")\n",
    "    transition_counts = df_train['Transition'].value_counts()\n",
    "    print(transition_counts)"
   ]
  },
  {
   "cell_type": "markdown",
   "metadata": {},
   "source": [
    "Checking correlation"
   ]
  },
  {
   "cell_type": "code",
   "execution_count": 107,
   "metadata": {},
   "outputs": [],
   "source": [
    "df_train_numeric = df_train.copy()\n",
    "transition_mapping = {transition: idx + 1 for idx, transition in enumerate(df_train['Transition'].unique())}\n",
    "df_train_numeric['Transition'] = df_train_numeric['Transition'].map(transition_mapping)\n",
    "correlation_matrix = df_train_numeric.corr()\n",
    "correlation_with_target = correlation_matrix['Transition'].sort_values(ascending=False)\n",
    "with open('../check_files_hip/correlation_with_target.txt', 'w') as file:\n",
    "    file.write(\"Correlation with target (Transition):\\n\")\n",
    "    file.write(correlation_with_target.to_string())"
   ]
  },
  {
   "cell_type": "markdown",
   "metadata": {},
   "source": [
    "# Random Forest Classifier\n"
   ]
  },
  {
   "cell_type": "markdown",
   "metadata": {},
   "source": [
    "Add an ID header"
   ]
  },
  {
   "cell_type": "code",
   "execution_count": 108,
   "metadata": {},
   "outputs": [],
   "source": [
    "df_test.reset_index(drop=True, inplace=True)\n",
    "df_test.insert(0, 'ID', df_test.index + 1)"
   ]
  },
  {
   "cell_type": "code",
   "execution_count": 109,
   "metadata": {},
   "outputs": [],
   "source": [
    "from sklearn.ensemble import RandomForestClassifier\n",
    "\n",
    "# Split the data and target from the training dataset\n",
    "X_train = df_train.drop('Transition', axis=1)\n",
    "y_train = df_train['Transition']\n",
    "\n",
    "# Initialize and train the RandomForest model\n",
    "rf_model = RandomForestClassifier()\n",
    "rf_model.fit(X_train, y_train)\n",
    "\n",
    "# Make predictions on the test dataset\n",
    "# Assuming 'PassengerId' exists in df_test and is required in the output\n",
    "X_test = df_test.drop('ID', axis=1)  # Exclude ID from prediction features\n",
    "op_rf = rf_model.predict(X_test)\n",
    "\n",
    "# Prepare the output file with predictions\n",
    "op = pd.DataFrame(df_test['ID'])  # Retrieve PassengerId from df_test\n",
    "op['Transition'] = op_rf\n",
    "op.to_csv(\"submission.csv\", index=False)\n"
   ]
  }
 ],
 "metadata": {
  "kernelspec": {
   "display_name": "DAA",
   "language": "python",
   "name": "python3"
  },
  "language_info": {
   "codemirror_mode": {
    "name": "ipython",
    "version": 3
   },
   "file_extension": ".py",
   "mimetype": "text/x-python",
   "name": "python",
   "nbconvert_exporter": "python",
   "pygments_lexer": "ipython3",
   "version": "3.12.2"
  }
 },
 "nbformat": 4,
 "nbformat_minor": 2
}

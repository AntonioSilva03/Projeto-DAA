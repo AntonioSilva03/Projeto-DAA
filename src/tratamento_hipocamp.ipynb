{
 "cells": [
  {
   "cell_type": "markdown",
   "metadata": {},
   "source": [
    "# Dados e Aprendizagem Automática\n",
    "### Tratamento dos Datasets do Hipocamp"
   ]
  },
  {
   "cell_type": "code",
   "execution_count": 18,
   "metadata": {},
   "outputs": [],
   "source": [
    "from sklearn.model_selection import train_test_split\n",
    "from sklearn.tree import DecisionTreeClassifier\n",
    "from sklearn.tree import DecisionTreeRegressor\n",
    "from sklearn.metrics import confusion_matrix\n",
    "from sklearn.metrics import recall_score\n",
    "from sklearn.metrics import accuracy_score\n",
    "from sklearn.metrics import precision_score\n",
    "from sklearn.metrics import roc_auc_score\n",
    "from sklearn.metrics import roc_curve\n",
    "from sklearn.metrics import f1_score\n",
    "from sklearn.metrics import fbeta_score\n",
    "from sklearn.metrics import mean_absolute_error\n",
    "from sklearn.metrics import mean_squared_error\n",
    "from sklearn.metrics import root_mean_squared_error\n",
    "import matplotlib.pyplot as plt\n",
    "import pandas as pd\n",
    "import numpy as np\n",
    "\n",
    "from sklearn.model_selection import cross_val_score\n",
    "from sklearn.model_selection import cross_val_predict\n",
    "from sklearn.metrics import classification_report\n",
    "from sklearn.svm import SVC\n",
    "from sklearn.ensemble import RandomForestClassifier\n",
    "from sklearn.ensemble import GradientBoostingClassifier, VotingClassifier, BaggingClassifier, StackingClassifier\n",
    "from sklearn.linear_model import LogisticRegression\n",
    "import xgboost as xgb\n",
    "from xgboost.sklearn import XGBClassifier\n",
    "from sklearn.model_selection import train_test_split, cross_val_score, GridSearchCV, StratifiedShuffleSplit\n",
    "from sklearn import tree"
   ]
  },
  {
   "cell_type": "markdown",
   "metadata": {},
   "source": [
    "Load CSVs"
   ]
  },
  {
   "cell_type": "code",
   "execution_count": 19,
   "metadata": {},
   "outputs": [],
   "source": [
    "df_train = pd.read_csv('../datasets/train_radiomics_hipocamp.csv')\n",
    "df_test = pd.read_csv('../datasets/test_radiomics_hipocamp.csv')"
   ]
  },
  {
   "cell_type": "markdown",
   "metadata": {},
   "source": [
    "How many columns"
   ]
  },
  {
   "cell_type": "code",
   "execution_count": 20,
   "metadata": {},
   "outputs": [
    {
     "name": "stdout",
     "output_type": "stream",
     "text": [
      "Train shape: 305 rows and 2181 columns\n",
      "Test shape: 100 rows and 2180 columns\n"
     ]
    }
   ],
   "source": [
    "shape_train = df_train.shape\n",
    "shape_test = df_test.shape\n",
    "\n",
    "print(f'Train shape: {shape_train[0]} rows and {shape_train[1]} columns')\n",
    "print(f'Test shape: {shape_test[0]} rows and {shape_test[1]} columns')"
   ]
  },
  {
   "cell_type": "markdown",
   "metadata": {},
   "source": [
    "Analisar os tipos de cada coluna"
   ]
  },
  {
   "cell_type": "code",
   "execution_count": 21,
   "metadata": {},
   "outputs": [
    {
     "name": "stdout",
     "output_type": "stream",
     "text": [
      "<class 'pandas.core.frame.DataFrame'>\n",
      "RangeIndex: 305 entries, 0 to 304\n",
      "Columns: 2181 entries, ID to Transition\n",
      "dtypes: float64(2014), int64(147), object(20)\n",
      "memory usage: 5.1+ MB\n",
      "--------------------\n",
      "<class 'pandas.core.frame.DataFrame'>\n",
      "RangeIndex: 100 entries, 0 to 99\n",
      "Columns: 2180 entries, ID to Age\n",
      "dtypes: float64(2011), int64(150), object(19)\n",
      "memory usage: 1.7+ MB\n"
     ]
    }
   ],
   "source": [
    "df_train.info()\n",
    "print(\"--------------------\")\n",
    "df_test.info()"
   ]
  },
  {
   "cell_type": "markdown",
   "metadata": {},
   "source": [
    "There are no missing values"
   ]
  },
  {
   "cell_type": "code",
   "execution_count": 22,
   "metadata": {},
   "outputs": [],
   "source": [
    "missing_values = df_train.isna().sum()\n",
    "missing_values = missing_values[missing_values > 0]\n",
    "if not missing_values.empty:\n",
    "    print(missing_values)\n",
    "    print(\"--------------------\")\n",
    "missing_values = df_test.isna().sum()\n",
    "missing_values = missing_values[missing_values > 0]\n",
    "if not missing_values.empty:\n",
    "    print(missing_values)"
   ]
  },
  {
   "cell_type": "markdown",
   "metadata": {},
   "source": [
    "Dropping unique value columns"
   ]
  },
  {
   "cell_type": "code",
   "execution_count": 23,
   "metadata": {},
   "outputs": [],
   "source": [
    "# Find columns where every row has the same value TRAIN\n",
    "same_value_columns_train = df_train.columns[df_train.nunique() == 1]\n",
    "df_train = df_train.drop(columns=same_value_columns_train)\n",
    "\n",
    "# Find columns where every row has the same value TEST\n",
    "same_value_columns_test = df_test.columns[df_test.nunique() == 1]\n",
    "df_test = df_test.drop(columns=same_value_columns_test)"
   ]
  },
  {
   "cell_type": "markdown",
   "metadata": {},
   "source": [
    "Remove all the duplicated columns except one"
   ]
  },
  {
   "cell_type": "code",
   "execution_count": 24,
   "metadata": {},
   "outputs": [],
   "source": [
    "def remove_duplicated_columns(df_train, df_test):\n",
    "    # Seleciona as colunas do tipo float64\n",
    "    float_columns_train = df_train.select_dtypes(include=[np.number])\n",
    "    \n",
    "    # Identifica colunas duplicadas com base no conteúdo\n",
    "    duplicated_columns_train = float_columns_train.T.duplicated(keep=False)\n",
    "    \n",
    "    # Filtra apenas as colunas duplicadas e seus conteúdos\n",
    "    duplicated_data_train = float_columns_train.loc[:, duplicated_columns_train]\n",
    "    \n",
    "    # Agrupa as colunas duplicadas por seu conteúdo\n",
    "    grouped_duplicates_train = duplicated_data_train.T.groupby(list(duplicated_data_train.T)).groups\n",
    "    \n",
    "    columns_to_remove = []\n",
    "    # Loop por cada grupo de colunas duplicadas, mantendo a primeira e removendo as demais\n",
    "    for content, columns in grouped_duplicates_train.items():\n",
    "        columns_to_remove.extend(columns[1:])  # Ignora a primeira coluna e apaga as restantes\n",
    "    \n",
    "    # Remove duplicated columns from both train and test datasets\n",
    "    df_train.drop(columns=columns_to_remove, inplace=True)\n",
    "    df_test.drop(columns=[col for col in columns_to_remove if col in df_test.columns], inplace=True)\n",
    "    \n",
    "    return df_train, df_test\n",
    "\n",
    "# Uso da função\n",
    "df_train, df_test = remove_duplicated_columns(df_train, df_test)"
   ]
  },
  {
   "cell_type": "markdown",
   "metadata": {},
   "source": [
    "Remove all the object columns "
   ]
  },
  {
   "cell_type": "code",
   "execution_count": 25,
   "metadata": {},
   "outputs": [],
   "source": [
    "df_train = df_train.drop(columns=[col for col in df_train.select_dtypes(include=['object']).columns if col != 'Transition'])\n",
    "df_test = df_test.drop(columns=[col for col in df_test.select_dtypes(include=['object']).columns if col != 'Transition'])"
   ]
  },
  {
   "cell_type": "markdown",
   "metadata": {},
   "source": [
    "Tratamento de outliers\n"
   ]
  },
  {
   "cell_type": "code",
   "execution_count": 26,
   "metadata": {},
   "outputs": [
    {
     "data": {
      "text/plain": [
       "'def cap_outliers(df):\\n    for column in df.select_dtypes(include=[np.number]).columns:\\n        Q1 = df[column].quantile(0.25)\\n        Q3 = df[column].quantile(0.75)\\n        IQR = Q3 - Q1\\n        lower_bound = Q1 - 1.5 * IQR\\n        upper_bound = Q3 + 1.5 * IQR\\n        df[column] = np.where(df[column] < lower_bound, lower_bound, df[column])\\n        df[column] = np.where(df[column] > upper_bound, upper_bound, df[column])\\n    return df\\n\\n# Aplicar a função ao dataframe df_train e depois ao df_test\\ndf_train = cap_outliers(df_train)\\ndf_test = cap_outliers(df_test)'"
      ]
     },
     "execution_count": 26,
     "metadata": {},
     "output_type": "execute_result"
    }
   ],
   "source": [
    "'''def cap_outliers(df):\n",
    "    for column in df.select_dtypes(include=[np.number]).columns:\n",
    "        Q1 = df[column].quantile(0.25)\n",
    "        Q3 = df[column].quantile(0.75)\n",
    "        IQR = Q3 - Q1\n",
    "        lower_bound = Q1 - 1.5 * IQR\n",
    "        upper_bound = Q3 + 1.5 * IQR\n",
    "        df[column] = np.where(df[column] < lower_bound, lower_bound, df[column])\n",
    "        df[column] = np.where(df[column] > upper_bound, upper_bound, df[column])\n",
    "    return df\n",
    "\n",
    "# Aplicar a função ao dataframe df_train e depois ao df_test\n",
    "df_train = cap_outliers(df_train)\n",
    "df_test = cap_outliers(df_test)'''"
   ]
  },
  {
   "cell_type": "markdown",
   "metadata": {},
   "source": [
    "Normalizar valores"
   ]
  },
  {
   "cell_type": "code",
   "execution_count": 27,
   "metadata": {},
   "outputs": [
    {
     "data": {
      "text/plain": [
       "'from sklearn.preprocessing import MinMaxScaler\\n\\ndef normalize_dataframe(df):\\n    scaler = MinMaxScaler()\\n    float_columns = df.select_dtypes(include=[np.number]).columns\\n    df[float_columns] = scaler.fit_transform(df[float_columns])\\n    return df\\n\\n# Aplicar a função ao dataframe df_train e depois ao df_test\\ndf_train = normalize_dataframe(df_train)\\ndf_test = normalize_dataframe(df_test)'"
      ]
     },
     "execution_count": 27,
     "metadata": {},
     "output_type": "execute_result"
    }
   ],
   "source": [
    "'''from sklearn.preprocessing import MinMaxScaler\n",
    "\n",
    "def normalize_dataframe(df):\n",
    "    scaler = MinMaxScaler()\n",
    "    float_columns = df.select_dtypes(include=[np.number]).columns\n",
    "    df[float_columns] = scaler.fit_transform(df[float_columns])\n",
    "    return df\n",
    "\n",
    "# Aplicar a função ao dataframe df_train e depois ao df_test\n",
    "df_train = normalize_dataframe(df_train)\n",
    "df_test = normalize_dataframe(df_test)'''"
   ]
  },
  {
   "cell_type": "markdown",
   "metadata": {},
   "source": [
    "Check how many different transitions TRAIN"
   ]
  },
  {
   "cell_type": "code",
   "execution_count": 28,
   "metadata": {},
   "outputs": [
    {
     "name": "stdout",
     "output_type": "stream",
     "text": [
      "There are 5 different transitions.\n",
      "Transition\n",
      "CN-CN      96\n",
      "MCI-MCI    71\n",
      "MCI-AD     68\n",
      "AD-AD      60\n",
      "CN-MCI     10\n",
      "Name: count, dtype: int64\n"
     ]
    }
   ],
   "source": [
    "if 'Transition' in df_train.columns:\n",
    "    unique_transitions = df_train['Transition'].nunique()\n",
    "    print(f\"There are {unique_transitions} different transitions.\")\n",
    "    transition_counts = df_train['Transition'].value_counts()\n",
    "    print(transition_counts)"
   ]
  },
  {
   "cell_type": "markdown",
   "metadata": {},
   "source": [
    "Checking correlation"
   ]
  },
  {
   "cell_type": "code",
   "execution_count": 29,
   "metadata": {},
   "outputs": [],
   "source": [
    "df_train_numeric = df_train.copy()\n",
    "transition_mapping = {transition: idx + 1 for idx, transition in enumerate(df_train['Transition'].unique())}\n",
    "df_train_numeric['Transition'] = df_train_numeric['Transition'].map(transition_mapping)\n",
    "correlation_matrix = df_train_numeric.corr()\n",
    "correlation_with_target = correlation_matrix['Transition'].sort_values(ascending=False)\n",
    "with open('../check_files_hip/correlation_with_target.txt', 'w') as file:\n",
    "    file.write(\"Correlation with target (Transition):\\n\")\n",
    "    file.write(correlation_with_target.to_string())"
   ]
  },
  {
   "cell_type": "markdown",
   "metadata": {},
   "source": [
    "Add an ID header"
   ]
  },
  {
   "cell_type": "code",
   "execution_count": 30,
   "metadata": {},
   "outputs": [],
   "source": [
    "df_test.reset_index(drop=True, inplace=True)\n",
    "df_test.insert(0, 'RowId', df_test.index + 1)"
   ]
  },
  {
   "cell_type": "markdown",
   "metadata": {},
   "source": [
    "### Decision Tree Classifier\n"
   ]
  },
  {
   "cell_type": "markdown",
   "metadata": {},
   "source": [
    "Running the model"
   ]
  },
  {
   "cell_type": "code",
   "execution_count": 31,
   "metadata": {},
   "outputs": [],
   "source": [
    "X_train_dtc = df_train.drop('Transition', axis=1)\n",
    "y_train_dtc = df_train['Transition']\n",
    "\n",
    "dt_model = DecisionTreeClassifier(max_depth=5, random_state=2022)\n",
    "dt_model.fit(X_train_dtc, y_train_dtc)\n",
    "\n",
    "X_test_dtc = df_test.drop('RowId', axis=1)\n",
    "dt_score = dt_model.predict(X_test_dtc)\n",
    "\n",
    "op_dtc = pd.DataFrame(df_test['RowId'])\n",
    "op_dtc['Transition'] = dt_score\n",
    "#op_dtc.to_csv(\"../submissions/submission_dtc.csv\", index=False)"
   ]
  },
  {
   "cell_type": "markdown",
   "metadata": {},
   "source": [
    "### Support Vector Machine"
   ]
  },
  {
   "cell_type": "code",
   "execution_count": 32,
   "metadata": {},
   "outputs": [],
   "source": [
    "X_train_svc = df_train.drop('Transition', axis=1)\n",
    "y_train_svc = df_train['Transition']\n",
    "\n",
    "svm_model = SVC(random_state=2022)\n",
    "svm_model.fit(X_train_svc, y_train_svc)\n",
    "\n",
    "X_test_svc = df_test.drop('RowId', axis=1)\n",
    "svc_score = svm_model.predict(X_test_svc)\n",
    "\n",
    "op_svc = pd.DataFrame(df_test['RowId'])\n",
    "op_svc['Transition'] = svc_score\n",
    "op_svc.to_csv(\"../submissions/submission_svc.csv\", index=False)"
   ]
  },
  {
   "cell_type": "markdown",
   "metadata": {},
   "source": [
    "### Bagging (Bootstrap Aggregating)"
   ]
  },
  {
   "cell_type": "code",
   "execution_count": 33,
   "metadata": {},
   "outputs": [
    {
     "name": "stdout",
     "output_type": "stream",
     "text": [
      "BaggingClassifier(estimator=DecisionTreeClassifier(max_depth=5,\n",
      "                                                   random_state=2022),\n",
      "                  n_estimators=160)\n"
     ]
    }
   ],
   "source": [
    "X_train_sss = df_train.drop('Transition', axis=1)\n",
    "y_train_sss = df_train['Transition']\n",
    "\n",
    "sss = StratifiedShuffleSplit(n_splits=10, test_size=20, random_state=2022)\n",
    "\n",
    "bg_model = BaggingClassifier(estimator=dt_model, bootstrap= True)\n",
    "\n",
    "n_estimators = [160]\n",
    "\n",
    "parameters = {'n_estimators': n_estimators}\n",
    "\n",
    "grid_bg = GridSearchCV(estimator= bg_model, param_grid= parameters, cv=sss)\n",
    "\n",
    "grid_bg.fit(X_train_sss, y_train_sss)\n",
    "\n",
    "bst_bg_model = grid_bg.best_estimator_\n",
    "\n",
    "print(bst_bg_model)\n",
    "\n",
    "bst_bg_model.fit(X_train_sss, y_train_sss)\n",
    "\n",
    "X_test_sss = df_test.drop('RowId', axis=1)\n",
    "bg_predictions = bst_bg_model.predict(X_test_sss)\n",
    "\n",
    "op_bg = pd.DataFrame(df_test['RowId'])\n",
    "op_bg['Transition'] = bg_predictions\n",
    "op_bg.to_csv(\"../submissions/submission_bg.csv\", index=False)"
   ]
  },
  {
   "cell_type": "markdown",
   "metadata": {},
   "source": [
    "### Random Forest Classifier\n"
   ]
  },
  {
   "cell_type": "markdown",
   "metadata": {},
   "source": [
    "Running the model\n"
   ]
  },
  {
   "cell_type": "code",
   "execution_count": 34,
   "metadata": {},
   "outputs": [],
   "source": [
    "# Split the data and target from the training dataset\n",
    "X_train_rfc = df_train.drop('Transition', axis=1)\n",
    "y_train_rfc = df_train['Transition']\n",
    "\n",
    "# Initialize and train the RandomForest model\n",
    "rf_model = RandomForestClassifier(bootstrap=False, max_depth=10, max_features=10, n_estimators=100, random_state=2022)\n",
    "rf_model.fit(X_train_rfc, y_train_rfc)\n",
    "\n",
    "\n",
    "# Make predictions on the test dataset\n",
    "# Assuming 'RowId' exists in df_test and is required in the output\n",
    "X_test_rfc = df_test.drop('RowId', axis=1)  # Exclude RowId from prediction features\n",
    "rf_score = rf_model.predict(X_test_rfc)\n",
    "\n",
    "# Prepare the output file with predictions\n",
    "op_rf = pd.DataFrame(df_test['RowId'])  # Retrieve rowID from df_test\n",
    "op_rf['Transition'] = rf_score\n",
    "#op.to_csv(\"../submissions/submission_rfc.csv\", index=False)\n"
   ]
  },
  {
   "cell_type": "markdown",
   "metadata": {},
   "source": [
    "### Gradient Boosting"
   ]
  },
  {
   "cell_type": "code",
   "execution_count": 35,
   "metadata": {},
   "outputs": [],
   "source": [
    "X_train_gbc = df_train.drop('Transition', axis=1)\n",
    "y_train_gbc = df_train['Transition']\n",
    "\n",
    "gbc_model = GradientBoostingClassifier(n_estimators=100, learning_rate=1.0, max_depth=5, random_state=2022)\n",
    "gbc_model.fit(X_train_gbc, y_train_gbc)\n",
    "\n",
    "X_test_gbc = df_test.drop('RowId', axis=1)\n",
    "gbc_score = gbc_model.predict(X_test_gbc)\n",
    "\n",
    "op_gbc = pd.DataFrame(df_test['RowId'])\n",
    "op_gbc['Transition'] = gbc_score\n",
    "op_gbc.to_csv(\"../submissions/submission_gbc.csv\", index=False)"
   ]
  },
  {
   "cell_type": "markdown",
   "metadata": {},
   "source": [
    "### XGBoost"
   ]
  },
  {
   "cell_type": "code",
   "execution_count": 39,
   "metadata": {},
   "outputs": [],
   "source": [
    "from sklearn.preprocessing import LabelEncoder\n",
    "# Step 1: Encode the target variable\n",
    "le = LabelEncoder()\n",
    "y_train_xgb = le.fit_transform(df_train['Transition'])\n",
    "\n",
    "# Define training features\n",
    "X_train_xgb = df_train.drop('Transition', axis=1)\n",
    "\n",
    "# Define and fit the model\n",
    "xgb_model = XGBClassifier(n_estimators=100, learning_rate=1.0, max_depth=5, random_state=2022, objective='multi:softmax')\n",
    "xgb_model.fit(X_train_xgb, y_train_xgb)\n",
    "\n",
    "# Prepare the test set features\n",
    "X_test_xgb = df_test.drop('RowId', axis=1)\n",
    "\n",
    "# Predict on the test set\n",
    "xgb_score = xgb_model.predict(X_test_xgb)\n",
    "\n",
    "# Step 3: Decode the predicted labels back to the original class names\n",
    "xgb_score = le.inverse_transform(xgb_score)\n",
    "\n",
    "# Prepare the output for submission\n",
    "op_xgb = pd.DataFrame(df_test['RowId'])\n",
    "op_xgb['Transition'] = xgb_score\n",
    "op_xgb.to_csv(\"../submissions/submission_xgb.csv\", index=False)\n"
   ]
  },
  {
   "cell_type": "markdown",
   "metadata": {},
   "source": [
    "### Stacking"
   ]
  },
  {
   "cell_type": "code",
   "execution_count": null,
   "metadata": {},
   "outputs": [],
   "source": [
    "from sklearn.model_selection import StratifiedKFold\n",
    "cv = StratifiedKFold(n_splits=5)\n",
    "final_estimator = LogisticRegression(max_iter=500)\n",
    "\n",
    "X_train_stc = df_train.drop('Transition', axis=1)\n",
    "y_train_stc = df_train['Transition']\n",
    "\n",
    "estimators = [(\"dt\", dt_model), (\"svm\", svm_model), (\"rf\", rf_model), (\"gbc\", gbc_model), (\"xgb\", xgb_model)]\n",
    "stc_model = StackingClassifier(estimators=estimators, final_estimator=final_estimator, cv=cv)\n",
    "stc_model.fit(X_train_stc, y_train_stc)\n",
    "\n",
    "X_test_stc = df_test.drop('RowId', axis=1)\n",
    "stc_predictions = stc_model.predict(X_test_stc)\n",
    "\n",
    "op_stc = pd.DataFrame(df_test['RowId'])\n",
    "op_stc['Transition'] = stc_predictions\n",
    "op_stc.to_csv(\"../submissions/submission_stc.csv\", index=False)"
   ]
  },
  {
   "cell_type": "markdown",
   "metadata": {},
   "source": [
    "### Max Voting"
   ]
  },
  {
   "cell_type": "code",
   "execution_count": 45,
   "metadata": {},
   "outputs": [],
   "source": [
    "X_train_hvt = df_train.drop('Transition', axis=1)\n",
    "y_train_hvt = df_train['Transition']\n",
    "\n",
    "hvt_model = VotingClassifier(estimators=estimators, voting='hard', weights=[1, 1, 2, 2, 2])\n",
    "hvt_model.fit(X_train_hvt, y_train_hvt)\n",
    "\n",
    "X_test_hvt = df_test.drop('RowId', axis=1)\n",
    "hvt_predictions = hvt_model.predict(X_test_hvt)\n",
    "\n",
    "op_hvt = pd.DataFrame(df_test['RowId'])\n",
    "op_hvt['Transition'] = hvt_predictions\n",
    "op_hvt.to_csv(\"../submissions/submission_hvt.csv\", index=False)"
   ]
  }
 ],
 "metadata": {
  "kernelspec": {
   "display_name": "DAA",
   "language": "python",
   "name": "python3"
  },
  "language_info": {
   "codemirror_mode": {
    "name": "ipython",
    "version": 3
   },
   "file_extension": ".py",
   "mimetype": "text/x-python",
   "name": "python",
   "nbconvert_exporter": "python",
   "pygments_lexer": "ipython3",
   "version": "3.12.2"
  }
 },
 "nbformat": 4,
 "nbformat_minor": 2
}

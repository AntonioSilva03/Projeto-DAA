{
 "cells": [
  {
   "cell_type": "markdown",
   "metadata": {},
   "source": [
    "# Decision Tree Classifier\n"
   ]
  },
  {
   "cell_type": "code",
   "execution_count": null,
   "metadata": {},
   "outputs": [],
   "source": [
    "from sklearn.model_selection import train_test_split\n",
    "from sklearn.tree import DecisionTreeClassifier\n",
    "from sklearn.tree import DecisionTreeRegressor\n",
    "from sklearn.metrics import confusion_matrix\n",
    "from sklearn.metrics import recall_score\n",
    "from sklearn.metrics import accuracy_score\n",
    "from sklearn.metrics import precision_score\n",
    "from sklearn.metrics import roc_auc_score\n",
    "from sklearn.metrics import roc_curve\n",
    "from sklearn.metrics import f1_score\n",
    "from sklearn.metrics import fbeta_score\n",
    "from sklearn.metrics import mean_absolute_error\n",
    "from sklearn.metrics import mean_squared_error\n",
    "from sklearn.metrics import root_mean_squared_error\n",
    "import matplotlib.pyplot as plt\n",
    "import pandas as pd\n",
    "import numpy as np\n",
    "\n",
    "from sklearn.model_selection import cross_val_score\n",
    "from sklearn.model_selection import cross_val_predict\n",
    "from sklearn.metrics import classification_report\n",
    "from sklearn.svm import SVC\n",
    "from sklearn.ensemble import RandomForestClassifier\n",
    "from sklearn.ensemble import GradientBoostingClassifier, VotingClassifier, BaggingClassifier, StackingClassifier\n",
    "from sklearn.linear_model import LogisticRegression\n",
    "import xgboost as xgb\n",
    "from xgboost.sklearn import XGBClassifier\n",
    "from sklearn.model_selection import train_test_split, cross_val_score, GridSearchCV, StratifiedShuffleSplit\n",
    "from sklearn import tree "
   ]
  },
  {
   "cell_type": "markdown",
   "metadata": {},
   "source": [
    "Load datasets manuseados\n"
   ]
  },
  {
   "cell_type": "code",
   "execution_count": null,
   "metadata": {},
   "outputs": [],
   "source": [
    "df_train = pd.read_csv('../datasets_manuseados/train_radiomics_hipocamp_cleaned.csv')\n",
    "df_test = pd.read_csv('../datasets_manuseados/test_radiomics_hipocamp_cleaned.csv')"
   ]
  },
  {
   "cell_type": "code",
   "execution_count": null,
   "metadata": {},
   "outputs": [],
   "source": [
    "\n",
    "# Separar features e target do treino\n",
    "X = df_train.drop(columns=['Transition'])  # Drop da coluna target\n",
    "y = df_train['Transition']  # Coluna target\n",
    "X_test = df_test  # Dataset de teste (sem a coluna 'Transition')\n",
    "\n",
    "# Dividir o dataset de treino para validação\n",
    "X_train, X_val, y_train, y_val = train_test_split(X, y, test_size=0.2, random_state=42)\n",
    "\n",
    "# Definir o modelo base\n",
    "dt = DecisionTreeClassifier(random_state=42)\n",
    "\n",
    "# Grid de hiperparâmetros\n",
    "param_grid = {\n",
    "    'criterion': ['gini', 'entropy'],      # Critério de divisão\n",
    "    'max_depth': [None, 5, 10, 20, 30],   # Profundidade máxima\n",
    "    'min_samples_split': [2, 5, 10],      # Mínimo de amostras para dividir um nó\n",
    "    'min_samples_leaf': [1, 2, 4],        # Mínimo de amostras em uma folha\n",
    "    'max_features': [None, 'sqrt', 'log2']  # Máximo de features consideradas por nó\n",
    "}\n",
    "\n",
    "# Fazer GridSearchCV para encontrar os melhores parâmetros\n",
    "grid_search = GridSearchCV(estimator=dt, param_grid=param_grid, cv=5, scoring='accuracy', verbose=2, n_jobs=-1)\n",
    "grid_search.fit(X_train, y_train)\n",
    "\n",
    "# Melhor modelo encontrado\n",
    "best_dt = grid_search.best_estimator_\n",
    "\n",
    "# Identificar a importância das features\n",
    "feature_importances = best_dt.feature_importances_\n",
    "important_features = pd.DataFrame({\n",
    "    'Feature': X.columns,\n",
    "    'Importance': feature_importances\n",
    "}).sort_values(by='Importance', ascending=False)\n",
    "\n",
    "# Selecionar as features mais importantes (com importância acima da média)\n",
    "mean_importance = feature_importances.mean()\n",
    "selected_features = important_features[important_features['Importance'] > mean_importance]['Feature']\n",
    "\n",
    "# Salvar as features importantes em um arquivo CSV\n",
    "selected_features.to_csv('../check_files_hip/selected_important_features.csv', index=False)\n",
    "\n",
    "# Ajustar os datasets de treino, validação e teste para incluir apenas as features selecionadas\n",
    "X_train_selected = X_train[selected_features]\n",
    "X_val_selected = X_val[selected_features]\n",
    "X_test_selected = X_test[selected_features]\n",
    "\n",
    "# Treinar o modelo com as features selecionadas\n",
    "best_dt.fit(X_train_selected, y_train)\n",
    "\n",
    "# Avaliar no conjunto de validação\n",
    "val_accuracy = best_dt.score(X_val_selected, y_val)\n",
    "print(f\"Acurácia no conjunto de validação: {val_accuracy:.4f}\")\n",
    "\n",
    "y_pred = best_dt.predict(X_val_selected)\n",
    "print(\"Relatório de classificação no conjunto de validação:\")\n",
    "print(classification_report(y_val, y_pred))\n",
    "\n",
    "# Fazer previsões no dataset de teste\n",
    "predictions = best_dt.predict(X_test_selected)\n",
    "\n",
    "# Adicionar as previsões ao dataset de teste\n",
    "df_test['Transition'] = predictions\n",
    "\n",
    "# Salvar apenas as colunas 'RowID' e 'Transition' no dataset de teste com as previsões\n",
    "df_test[['RowID', 'Transition']].to_csv('../submissions/dtc.csv', index=False)\n"
   ]
  },
  {
   "cell_type": "markdown",
   "metadata": {},
   "source": [
    "Data Split and Grid Search and Predict"
   ]
  }
 ],
 "metadata": {
  "kernelspec": {
   "display_name": "DAA",
   "language": "python",
   "name": "python3"
  },
  "language_info": {
   "codemirror_mode": {
    "name": "ipython",
    "version": 3
   },
   "file_extension": ".py",
   "mimetype": "text/x-python",
   "name": "python",
   "nbconvert_exporter": "python",
   "pygments_lexer": "ipython3",
   "version": "3.12.2"
  }
 },
 "nbformat": 4,
 "nbformat_minor": 2
}

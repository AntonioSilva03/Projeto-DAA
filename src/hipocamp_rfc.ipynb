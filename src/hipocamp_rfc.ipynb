{
 "cells": [
  {
   "cell_type": "markdown",
   "metadata": {},
   "source": [
    "# Random Forest Classifier"
   ]
  },
  {
   "cell_type": "code",
   "execution_count": 1,
   "metadata": {},
   "outputs": [],
   "source": [
    "import pandas as pd\n",
    "import numpy as np\n",
    "from sklearn.metrics import classification_report\n",
    "from sklearn.ensemble import RandomForestClassifier\n",
    "from sklearn.model_selection import train_test_split, cross_val_score, GridSearchCV, StratifiedShuffleSplit\n",
    "from sklearn import tree"
   ]
  },
  {
   "cell_type": "markdown",
   "metadata": {},
   "source": [
    "Load datasets manuseados"
   ]
  },
  {
   "cell_type": "code",
   "execution_count": 2,
   "metadata": {},
   "outputs": [],
   "source": [
    "df_train = pd.read_csv('../datasets_manuseados/train_radiomics_hipocamp_treated.csv')\n",
    "df_test = pd.read_csv('../datasets_manuseados/test_radiomics_hipocamp_treated.csv')"
   ]
  },
  {
   "cell_type": "markdown",
   "metadata": {},
   "source": [
    "Float64/Int64 to Float32/Int32"
   ]
  },
  {
   "cell_type": "code",
   "execution_count": 3,
   "metadata": {},
   "outputs": [
    {
     "name": "stdout",
     "output_type": "stream",
     "text": [
      "<class 'pandas.core.frame.DataFrame'>\n",
      "RangeIndex: 305 entries, 0 to 304\n",
      "Columns: 1898 entries, RowId to Transition\n",
      "dtypes: float32(1896), int32(1), object(1)\n",
      "memory usage: 2.2+ MB\n",
      "--------------------\n",
      "<class 'pandas.core.frame.DataFrame'>\n",
      "RangeIndex: 100 entries, 0 to 99\n",
      "Columns: 1897 entries, RowId to Age\n",
      "dtypes: float32(1896), int32(1)\n",
      "memory usage: 741.1 KB\n"
     ]
    }
   ],
   "source": [
    "float_features = df_train.select_dtypes(include='float')\n",
    "int_features = df_train.select_dtypes(include='int')\n",
    "df_train[float_features.columns] = df_train[float_features.columns].astype(np.float32)\n",
    "df_train[int_features.columns] = df_train[int_features.columns].astype(np.int32)\n",
    "df_train.info()\n",
    "print(\"--------------------\")\n",
    "float_features = df_test.select_dtypes(include='float')\n",
    "int_features = df_test.select_dtypes(include='int')\n",
    "df_test[float_features.columns] = df_test[float_features.columns].astype(np.float32)\n",
    "df_test[int_features.columns] = df_test[int_features.columns].astype(np.int32)\n",
    "df_test.info()"
   ]
  },
  {
   "cell_type": "markdown",
   "metadata": {},
   "source": [
    "Model training and predict"
   ]
  },
  {
   "cell_type": "code",
   "execution_count": null,
   "metadata": {},
   "outputs": [
    {
     "name": "stderr",
     "output_type": "stream",
     "text": [
      "/tmp/ipykernel_6471/82823813.py:13: PerformanceWarning: DataFrame is highly fragmented.  This is usually the result of calling `frame.insert` many times, which has poor performance.  Consider joining all columns at once using pd.concat(axis=1) instead. To get a de-fragmented frame, use `newframe = frame.copy()`\n",
      "  df_test['Transition'] = predictions\n"
     ]
    }
   ],
   "source": [
    "X = df_train.drop('Transition', axis=1)\n",
    "y = df_train['Transition']\n",
    "\n",
    "X_teste_rfc = df_test\n",
    "\n",
    "X_train_rfc, X_val_rfc, y_train_rfc, y_val_rfc = train_test_split(X, y, test_size=0.2, random_state=2024)\n",
    "\n",
    "# Random Forest Classifier\n",
    "rfc = RandomForestClassifier(bootstrap=False, max_depth=10, max_features=10, n_estimators=100, random_state=2024)\n",
    "rfc.fit(X_train_rfc, y_train_rfc)\n",
    "\n",
    "predictions = rfc.predict(X_teste_rfc)\n",
    "df_test['Transition'] = predictions\n",
    "df_test[['RowId', 'Transition']].to_csv('../predictions/rfc.csv', index=False)\n",
    "\n"
   ]
  }
 ],
 "metadata": {
  "kernelspec": {
   "display_name": "DAA",
   "language": "python",
   "name": "python3"
  },
  "language_info": {
   "codemirror_mode": {
    "name": "ipython",
    "version": 3
   },
   "file_extension": ".py",
   "mimetype": "text/x-python",
   "name": "python",
   "nbconvert_exporter": "python",
   "pygments_lexer": "ipython3",
   "version": "3.12.2"
  }
 },
 "nbformat": 4,
 "nbformat_minor": 2
}

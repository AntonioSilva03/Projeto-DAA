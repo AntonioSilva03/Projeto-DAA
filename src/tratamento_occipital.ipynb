{
 "cells": [
  {
   "cell_type": "markdown",
   "metadata": {},
   "source": [
    "# Dados e Aprendizagem Automática\n",
    "### Tratamento do Dataset de Controlo Occipital\n",
    "\n"
   ]
  },
  {
   "cell_type": "code",
   "execution_count": 57,
   "metadata": {},
   "outputs": [],
   "source": [
    "import pandas as pd\n",
    "import numpy as np\n"
   ]
  },
  {
   "cell_type": "markdown",
   "metadata": {},
   "source": [
    "Load CSV\n"
   ]
  },
  {
   "cell_type": "code",
   "execution_count": 58,
   "metadata": {},
   "outputs": [],
   "source": [
    "df_control = pd.read_csv('../datasets_originais/train_radiomics_occipital_CONTROL.csv')"
   ]
  },
  {
   "cell_type": "markdown",
   "metadata": {},
   "source": [
    "How many columns\n"
   ]
  },
  {
   "cell_type": "code",
   "execution_count": 59,
   "metadata": {},
   "outputs": [
    {
     "name": "stdout",
     "output_type": "stream",
     "text": [
      "Control dataset: 305 rows, 2181 columns\n"
     ]
    }
   ],
   "source": [
    "# Count the number of columns and rows in each dataset\n",
    "shape_control = df_control.shape\n",
    "\n",
    "print(f\"Control dataset: {shape_control[0]} rows, {shape_control[1]} columns\")"
   ]
  },
  {
   "cell_type": "markdown",
   "metadata": {},
   "source": [
    "Analisar os tipos de cada coluna"
   ]
  },
  {
   "cell_type": "code",
   "execution_count": 60,
   "metadata": {},
   "outputs": [
    {
     "name": "stdout",
     "output_type": "stream",
     "text": [
      "<class 'pandas.core.frame.DataFrame'>\n",
      "RangeIndex: 305 entries, 0 to 304\n",
      "Columns: 2181 entries, ID to Transition\n",
      "dtypes: float64(2014), int64(147), object(20)\n",
      "memory usage: 5.1+ MB\n"
     ]
    }
   ],
   "source": [
    "df_control.info()"
   ]
  },
  {
   "cell_type": "markdown",
   "metadata": {},
   "source": [
    "Checking missing values\n"
   ]
  },
  {
   "cell_type": "code",
   "execution_count": 61,
   "metadata": {},
   "outputs": [],
   "source": [
    "missing_values = df_control.isna().sum()\n",
    "missing_values = missing_values[missing_values > 0]\n",
    "if not missing_values.empty:\n",
    "    print(missing_values)\n",
    "\n",
    "# THERE ARE NO MISSING VALUES"
   ]
  },
  {
   "cell_type": "markdown",
   "metadata": {},
   "source": [
    "Dropping unique value columns"
   ]
  },
  {
   "cell_type": "code",
   "execution_count": 62,
   "metadata": {},
   "outputs": [
    {
     "name": "stdout",
     "output_type": "stream",
     "text": [
      "Columns with the same value in every row: 147\n"
     ]
    }
   ],
   "source": [
    "# Find columns where every row has the same value\n",
    "same_value_columns = df_control.columns[df_control.nunique() == 1]\n",
    "print(f\"Columns with the same value in every row: {len(same_value_columns)}\")\n",
    "\n",
    "# Save the columns with the same value in every row to a text file\n",
    "with open('../check_files_occ/same_value_columns.txt', 'w') as file:\n",
    "    file.write(\"Columns with the same value in every row:\\n\")\n",
    "    for column in same_value_columns:\n",
    "        file.write(f\"{column}\\n\")\n",
    "\n",
    "df_control = df_control.drop(columns=same_value_columns)\n"
   ]
  },
  {
   "cell_type": "markdown",
   "metadata": {},
   "source": [
    "Check for columns with the same values\n",
    "\n"
   ]
  },
  {
   "cell_type": "code",
   "execution_count": 63,
   "metadata": {},
   "outputs": [],
   "source": [
    "# Selecionar colunas do tipo numerico\n",
    "float_columns = df_control.select_dtypes(include=[np.number])\n",
    "\n",
    "# Encontrar colunas duplicadas com base nos valores\n",
    "duplicated_columns1 = float_columns.T.duplicated(keep=False)\n",
    "\n",
    "# Filtrar apenas as colunas duplicadas e seus conteúdos\n",
    "duplicated_data1 = float_columns.loc[:, duplicated_columns1]\n",
    "\n",
    "# Agrupar as colunas duplicadas por seu conteúdo e salvar o conteúdo de cada grupo em um arquivo de texto\n",
    "with open('../check_files_occ/duplicated_columns.txt', 'w') as file:\n",
    "    if duplicated_data1.empty:\n",
    "        file.write(\"Nenhuma coluna duplicada encontrada.\\n\")\n",
    "    else:\n",
    "        file.write(\"Colunas duplicadas e seus conteúdos:\\n\")\n",
    "        grouped_duplicates1 = duplicated_data1.T.groupby(list(duplicated_data1.T)).groups\n",
    "        for content, columns in grouped_duplicates1.items():\n",
    "            file.write(\"Colunas duplicadas:\\n\")\n",
    "            for col in columns:\n",
    "                file.write(f\"- {col}\\n\")\n",
    "            file.write(\"\\n\")"
   ]
  },
  {
   "cell_type": "markdown",
   "metadata": {},
   "source": [
    "Remove all the duplicated columns except one\n",
    "\n"
   ]
  },
  {
   "cell_type": "code",
   "execution_count": 64,
   "metadata": {},
   "outputs": [
    {
     "name": "stdout",
     "output_type": "stream",
     "text": [
      "Number of duplicated columns: 115\n"
     ]
    }
   ],
   "source": [
    "def remove_duplicated_columns(df):\n",
    "    # Seleciona as colunas do tipo numerico\n",
    "    float_columns = df.select_dtypes(include=[np.number])\n",
    "    \n",
    "    # Identifica colunas duplicadas com base no conteúdo\n",
    "    duplicated_columns = float_columns.T.duplicated(keep=False)\n",
    "    \n",
    "    # Filtra apenas as colunas duplicadas e seus conteúdos\n",
    "    duplicated_data = float_columns.loc[:, duplicated_columns]\n",
    "    \n",
    "    # Agrupa as colunas duplicadas por seu conteúdo\n",
    "    grouped_duplicates = duplicated_data.T.groupby(list(duplicated_data.T)).groups\n",
    "    \n",
    "    columns_to_remove = []\n",
    "    # Loop por cada grupo de colunas duplicadas, mantendo a primeira e removendo as demais\n",
    "    for content, columns in grouped_duplicates.items():\n",
    "        columns_to_remove.extend(columns[1:])  # Ignora a primeira coluna e apaga as restantes\n",
    "    \n",
    "    # Remove duplicated columns from both train and test datasets\n",
    "    print(f'Number of duplicated columns: {len(columns_to_remove)}')\n",
    "    df.drop(columns=columns_to_remove, inplace=True)\n",
    "    \n",
    "    return df\n",
    "\n",
    "# Uso da função\n",
    "df_control = remove_duplicated_columns(df_control)"
   ]
  },
  {
   "cell_type": "markdown",
   "metadata": {},
   "source": [
    "Remove all the object columns\n"
   ]
  },
  {
   "cell_type": "code",
   "execution_count": 65,
   "metadata": {},
   "outputs": [],
   "source": [
    "df_control = df_control.drop(columns=[col for col in df_control.select_dtypes(include=['object']).columns if col != 'Transition'])"
   ]
  },
  {
   "cell_type": "markdown",
   "metadata": {},
   "source": [
    "Verificação de outliers\n"
   ]
  },
  {
   "cell_type": "code",
   "execution_count": 66,
   "metadata": {},
   "outputs": [],
   "source": [
    "def detect_outliers(df):\n",
    "    outliers = []\n",
    "    for column in df.select_dtypes(include=[np.number]).columns:\n",
    "        Q1 = df[column].quantile(0.25)\n",
    "        Q3 = df[column].quantile(0.75)\n",
    "        IQR = Q3 - Q1\n",
    "        lower_bound = Q1 - 1.5 * IQR\n",
    "        upper_bound = Q3 + 1.5 * IQR\n",
    "        outlier_count = ((df[column] < lower_bound) | (df[column] > upper_bound)).sum()\n",
    "        if outlier_count > 0:\n",
    "            outliers.append({'Column': column, 'Outliers': outlier_count})\n",
    "    return pd.DataFrame(outliers)\n",
    "\n",
    "outliers = detect_outliers(df_control)\n",
    "outliers = outliers.sort_values(by='Outliers', ascending=False)\n",
    "\n",
    "# Salvar os resultados em um arquivo de texto\n",
    "with open('../check_files_occ/outliers.txt', 'w') as file:\n",
    "    if outliers.empty:\n",
    "        file.write(\"No outliers detected.\\n\")\n",
    "    else:\n",
    "        file.write(outliers.to_string(index=False))"
   ]
  },
  {
   "cell_type": "markdown",
   "metadata": {},
   "source": [
    "Tratamento de outliers\n"
   ]
  },
  {
   "cell_type": "raw",
   "metadata": {
    "vscode": {
     "languageId": "raw"
    }
   },
   "source": [
    "def cap_outliers(df):\n",
    "    for column in df.select_dtypes(include=[np.number]).columns:\n",
    "        Q1 = df[column].quantile(0.25)\n",
    "        Q3 = df[column].quantile(0.75)\n",
    "        IQR = Q3 - Q1\n",
    "        lower_bound = Q1 - 1.5 * IQR\n",
    "        upper_bound = Q3 + 1.5 * IQR\n",
    "        df[column] = np.where(df[column] < lower_bound, lower_bound, df[column])\n",
    "        df[column] = np.where(df[column] > upper_bound, upper_bound, df[column])\n",
    "    return df\n",
    "\n",
    "# Aplicar a função ao dataframe df_control\n",
    "df_control = cap_outliers(df_control)"
   ]
  },
  {
   "cell_type": "markdown",
   "metadata": {},
   "source": [
    "Normalizar valores"
   ]
  },
  {
   "cell_type": "code",
   "execution_count": 67,
   "metadata": {},
   "outputs": [],
   "source": [
    "from sklearn.preprocessing import MinMaxScaler\n",
    "\n",
    "def normalize_dataframe(df):\n",
    "    scaler = MinMaxScaler()\n",
    "    float_columns = df.select_dtypes(include=[np.number]).columns\n",
    "    df[float_columns] = scaler.fit_transform(df[float_columns])\n",
    "    return df\n",
    "\n",
    "# Aplicar a função ao dataframe df_control\n",
    "df_control = normalize_dataframe(df_control)"
   ]
  },
  {
   "cell_type": "markdown",
   "metadata": {},
   "source": [
    "Check how many different transitions"
   ]
  },
  {
   "cell_type": "code",
   "execution_count": 68,
   "metadata": {},
   "outputs": [
    {
     "name": "stdout",
     "output_type": "stream",
     "text": [
      "There are 5 different transitions.\n",
      "Transition\n",
      "CN-CN      96\n",
      "MCI-MCI    71\n",
      "MCI-AD     68\n",
      "AD-AD      60\n",
      "CN-MCI     10\n",
      "Name: count, dtype: int64\n"
     ]
    }
   ],
   "source": [
    "if 'Transition' in df_control.columns:\n",
    "    unique_transitions = df_control['Transition'].nunique()\n",
    "    print(f\"There are {unique_transitions} different transitions.\")\n",
    "    transition_counts = df_control['Transition'].value_counts()\n",
    "    print(transition_counts)"
   ]
  },
  {
   "cell_type": "markdown",
   "metadata": {},
   "source": [
    "Checking correlation"
   ]
  },
  {
   "cell_type": "code",
   "execution_count": 69,
   "metadata": {},
   "outputs": [],
   "source": [
    "df_control_numeric = df_control.copy()\n",
    "transition_mapping = {transition: idx + 1 for idx, transition in enumerate(df_control['Transition'].unique())}\n",
    "df_control_numeric['Transition'] = df_control_numeric['Transition'].map(transition_mapping)\n",
    "correlation_matrix = df_control_numeric.corr()\n",
    "correlation_with_target = correlation_matrix['Transition'].sort_values(ascending=False)\n",
    "with open('../check_files_occ/correlation_with_target.txt', 'w') as file:\n",
    "    file.write(\"Correlation with target (Transition):\\n\")\n",
    "    file.write(correlation_with_target.to_string())"
   ]
  },
  {
   "cell_type": "markdown",
   "metadata": {},
   "source": [
    "Save new dataset"
   ]
  },
  {
   "cell_type": "code",
   "execution_count": 70,
   "metadata": {},
   "outputs": [
    {
     "name": "stdout",
     "output_type": "stream",
     "text": [
      "(305, 1911)\n"
     ]
    }
   ],
   "source": [
    "print(df_control.shape)\n",
    "\n",
    "# Save the cleaned dataset to a new CSV file\n",
    "df_control.to_csv('../datasets_manuseados/train_radiomics_occipital_CONTROL_treated.csv', index=False)"
   ]
  }
 ],
 "metadata": {
  "kernelspec": {
   "display_name": "DAA",
   "language": "python",
   "name": "python3"
  },
  "language_info": {
   "codemirror_mode": {
    "name": "ipython",
    "version": 3
   },
   "file_extension": ".py",
   "mimetype": "text/x-python",
   "name": "python",
   "nbconvert_exporter": "python",
   "pygments_lexer": "ipython3",
   "version": "3.12.2"
  }
 },
 "nbformat": 4,
 "nbformat_minor": 4
}

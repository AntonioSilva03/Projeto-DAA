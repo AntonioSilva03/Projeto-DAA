{
 "cells": [
  {
   "cell_type": "markdown",
   "metadata": {},
   "source": [
    "# Dados e Aprendizagem Automática\n",
    "### Projeto\n"
   ]
  },
  {
   "cell_type": "code",
   "execution_count": 16,
   "metadata": {},
   "outputs": [],
   "source": [
    "from sklearn.model_selection import train_test_split\n",
    "from sklearn.tree import DecisionTreeClassifier\n",
    "from sklearn.tree import DecisionTreeRegressor\n",
    "from sklearn.metrics import confusion_matrix\n",
    "from sklearn.metrics import recall_score\n",
    "from sklearn.metrics import accuracy_score\n",
    "from sklearn.metrics import precision_score\n",
    "from sklearn.metrics import roc_auc_score\n",
    "from sklearn.metrics import roc_curve\n",
    "from sklearn.metrics import f1_score\n",
    "from sklearn.metrics import fbeta_score\n",
    "from sklearn.metrics import mean_absolute_error\n",
    "from sklearn.metrics import mean_squared_error\n",
    "from sklearn.metrics import root_mean_squared_error\n",
    "import matplotlib.pyplot as plt\n",
    "import pandas as pd\n",
    "import numpy as np\n",
    "\n",
    "from sklearn.model_selection import cross_val_score"
   ]
  },
  {
   "cell_type": "markdown",
   "metadata": {},
   "source": [
    "Load CSV\n"
   ]
  },
  {
   "cell_type": "code",
   "execution_count": 17,
   "metadata": {},
   "outputs": [],
   "source": [
    "df_control = pd.read_csv('./datasets/train_radiomics_occipital_CONTROL.csv')\n",
    "df_hipo_test = pd.read_csv('./datasets/test_radiomics_hipocamp.csv')\n",
    "df_hipo_train = pd.read_csv('./datasets/train_radiomics_hipocamp.csv')"
   ]
  },
  {
   "cell_type": "markdown",
   "metadata": {},
   "source": [
    "How many columns\n"
   ]
  },
  {
   "cell_type": "code",
   "execution_count": 18,
   "metadata": {},
   "outputs": [
    {
     "name": "stdout",
     "output_type": "stream",
     "text": [
      "Control dataset: 305 rows, 2181 columns\n",
      "Hipo test dataset: 100 rows, 2180 columns\n",
      "Hipo train dataset: 305 rows, 2181 columns\n"
     ]
    }
   ],
   "source": [
    "# Count the number of columns and rows in each dataset\n",
    "control_shape = df_control.shape\n",
    "hipo_test_shape = df_hipo_test.shape\n",
    "hipo_train_shape = df_hipo_train.shape\n",
    "\n",
    "print(f\"Control dataset: {control_shape[0]} rows, {control_shape[1]} columns\")\n",
    "print(f\"Hipo test dataset: {hipo_test_shape[0]} rows, {hipo_test_shape[1]} columns\")\n",
    "print(f\"Hipo train dataset: {hipo_train_shape[0]} rows, {hipo_train_shape[1]} columns\")"
   ]
  },
  {
   "cell_type": "markdown",
   "metadata": {},
   "source": [
    "Analisar os tipos de cada coluna"
   ]
  },
  {
   "cell_type": "code",
   "execution_count": 19,
   "metadata": {},
   "outputs": [
    {
     "name": "stdout",
     "output_type": "stream",
     "text": [
      "<class 'pandas.core.frame.DataFrame'>\n",
      "RangeIndex: 305 entries, 0 to 304\n",
      "Columns: 2181 entries, ID to Transition\n",
      "dtypes: float64(2014), int64(147), object(20)\n",
      "memory usage: 5.1+ MB\n"
     ]
    }
   ],
   "source": [
    "df_control.info()"
   ]
  },
  {
   "cell_type": "markdown",
   "metadata": {},
   "source": [
    "There are no missing values\n"
   ]
  },
  {
   "cell_type": "code",
   "execution_count": 20,
   "metadata": {},
   "outputs": [],
   "source": [
    "missing_values = df_control.isna().sum()\n",
    "missing_values = missing_values[missing_values > 0]\n",
    "if not missing_values.empty:\n",
    "    print(missing_values)"
   ]
  },
  {
   "cell_type": "markdown",
   "metadata": {},
   "source": [
    "Unique value columns"
   ]
  },
  {
   "cell_type": "code",
   "execution_count": 21,
   "metadata": {},
   "outputs": [],
   "source": [
    "# Find columns where every row has the same value\n",
    "same_value_columns = df_control.columns[df_control.nunique() == 1]\n",
    "\n",
    "# Save the columns with the same value in every row to a text file\n",
    "with open('same_value_columns.txt', 'w') as file:\n",
    "    file.write(\"Columns with the same value in every row:\\n\")\n",
    "    for column in same_value_columns:\n",
    "        file.write(f\"{column}\\n\")\n",
    "\n",
    "df_control = df_control.drop(columns=same_value_columns)\n"
   ]
  },
  {
   "cell_type": "markdown",
   "metadata": {},
   "source": [
    "Check for columns with the same values"
   ]
  },
  {
   "cell_type": "code",
   "execution_count": 22,
   "metadata": {},
   "outputs": [
    {
     "name": "stdout",
     "output_type": "stream",
     "text": [
      "Total number of duplicated columns: 620\n"
     ]
    }
   ],
   "source": [
    "# Find duplicate columns with the same values\n",
    "duplicate_columns = []\n",
    "for col1 in df_control.columns:\n",
    "    for col2 in df_control.columns:\n",
    "        if col1 != col2 and col1 not in duplicate_columns:\n",
    "            if df_control[col1].equals(df_control[col2]):\n",
    "                duplicate_columns.append((col1, col2))\n",
    "\n",
    "# Write the duplicated columns to a file\n",
    "with open('duplicated_columns.txt', 'w') as file:\n",
    "    for col_pair in duplicate_columns:\n",
    "        file.write(f\"{col_pair}\\n\")\n",
    "\n",
    "# Show the total number of duplicated columns\n",
    "print(f\"Total number of duplicated columns: {len(duplicate_columns)}\")"
   ]
  }
 ],
 "metadata": {
  "kernelspec": {
   "display_name": "DAA",
   "language": "python",
   "name": "python3"
  },
  "language_info": {
   "codemirror_mode": {
    "name": "ipython",
    "version": 3
   },
   "file_extension": ".py",
   "mimetype": "text/x-python",
   "name": "python",
   "nbconvert_exporter": "python",
   "pygments_lexer": "ipython3",
   "version": "3.12.2"
  }
 },
 "nbformat": 4,
 "nbformat_minor": 4
}
